{
 "cells": [
  {
   "cell_type": "markdown",
   "metadata": {},
   "source": [
    "<h1 style=\"text-align: center; color: navy; font-family: 'Arial Black', Gadget, sans-serif;\">\n",
    "    Análisis Estadístico de las Tarifas Surf y Ultimate en Megaline: Evaluación de Ingresos y Comportamiento del Cliente en 2018\n",
    "</h1>"
   ]
  },
  {
   "cell_type": "markdown",
   "metadata": {},
   "source": [
    "# Contenido <a id='back'></a>\n",
    "\n",
    "* [Introducción](#intro)\n",
    "* [Etapa 1. Descripción de los datos](#data_review)\n",
    "    * [Conclusiones](#data_review_conclusions)\n",
    "* [Etapa 2. Preprocesamiento de datos](#data_preprocessing)\n",
    "    * [2.1 Valores Duplicados](#duplicates)\n",
    "    * [2.2 Valores ausentes](#missing_values)\n",
    "    * [2.3 Tipos de datos](#data_type)\n",
    "    * [2.4 Conclusiones](#data_preprocessing_conclusions)\n",
    "* [Etapa 3. Análisis de los datos](#data_analyst)\n",
    "    * [3.1 Extracción de consumo por usuario](#extractions)\n",
    "    * [3.1 Llamadas](#calls)\n",
    "    * [3.2 Mensajes](#messages)\n",
    "    * [3.3 Internet por Gb](#internet)\n",
    "    * [3.4 Ingresos totales](#income)\n",
    "    * [3.5 Conclusiones](#conclusions)\n",
    "* [Etapa 4. Prueba de Hipótesis](#data_hypotesis)  \n",
    "* [Conclusiones finales del proyecto](#final_conclusion)"
   ]
  },
  {
   "cell_type": "markdown",
   "metadata": {},
   "source": [
    "## Introducción <a id='intro'></a>\n",
    "\n",
    "En este proyecto, trabajamos como analista para Megaline, un operador de telecomunicaciones que ofrece dos tarifas de prepago a sus clientes: Surf y Ultimate. El objetivo principal del análisis es determinar cuál de las dos tarifas genera más ingresos para la empresa, proporcionando información valiosa al departamento comercial para ajustar el presupuesto de publicidad de manera eficiente.\n",
    "\n",
    "Para llevar a cabo este análisis, utilizaremos datos de 500 clientes de Megaline, recopilados durante el año 2018. Los datos incluyen información sobre los clientes, las tarifas que utilizan, la cantidad de llamadas realizadas, los mensajes de texto enviados y el uso de datos. Analizaremos el comportamiento de los clientes y compararemos los ingresos generados por cada tarifa mediante pruebas estadísticas.\n",
    "\n",
    "## Descripción de las Tarifas\n",
    "\n",
    "**Tarifa Surf:**\n",
    "- Pago mensual: $20\n",
    "- 500 minutos al mes, 50 SMS y 15 GB de datos\n",
    "- Cargos adicionales:\n",
    "  - 1 minuto: $0.03\n",
    "  - 1 SMS: $0.03\n",
    "  - 1 GB de datos: $10\n",
    "\n",
    "**Tarifa Ultimate:**\n",
    "- Pago mensual: $70\n",
    "- 3000 minutos al mes, 1000 SMS y 30 GB de datos\n",
    "- Cargos adicionales:\n",
    "  - 1 minuto: $0.01\n",
    "  - 1 SMS: $0.01\n",
    "  - 1 GB de datos: $7\n",
    "\n",
    "## Diccionario de Datos\n",
    "\n",
    "Trabajaremos con cinco tablas diferentes que contienen información detallada sobre los usuarios, sus llamadas, mensajes, sesiones de internet y las tarifas disponibles:\n",
    "\n",
    "- **Tabla `users` (datos sobre los usuarios):**\n",
    "  - `user_id`: identificador único del usuario\n",
    "  - `first_name`: nombre del usuario\n",
    "  - `last_name`: apellido del usuario\n",
    "  - `age`: edad del usuario (en años)\n",
    "  - `reg_date`: fecha de suscripción (dd-mm-aa)\n",
    "  - `churn_date`: fecha en la que el usuario dejó de usar el servicio (si el valor es ausente, la tarifa se estaba usando cuando fue extraída esta base de datos)\n",
    "  - `city`: ciudad de residencia del usuario\n",
    "  - `plan`: nombre de la tarifa\n",
    "\n",
    "- **Tabla `calls` (datos sobre las llamadas):**\n",
    "  - `id`: identificador único de la llamada\n",
    "  - `call_date`: fecha de la llamada\n",
    "  - `duration`: duración de la llamada (en minutos)\n",
    "  - `user_id`: identificador del usuario que realiza la llamada\n",
    "\n",
    "- **Tabla `messages` (datos sobre los SMS):**\n",
    "  - `id`: identificador único del SMS\n",
    "  - `message_date`: fecha del SMS\n",
    "  - `user_id`: identificador del usuario que manda el SMS\n",
    "\n",
    "- **Tabla `internet` (datos sobre las sesiones web):**\n",
    "  - `id`: identificador único de la sesión\n",
    "  - `mb_used`: volumen de datos gastados durante la sesión (en megabytes)\n",
    "  - `session_date`: fecha de la sesión web\n",
    "  - `user_id`: identificador del usuario\n",
    "\n",
    "- **Tabla `plans` (datos sobre las tarifas):**\n",
    "  - `plan_name`: nombre de la tarifa\n",
    "  - `usd_monthly_fee`: pago mensual en dólares estadounidenses\n",
    "  - `minutes_included`: minutos incluidos al mes\n",
    "  - `messages_included`: SMS incluidos al mes\n",
    "  - `mb_per_month_included`: datos incluidos al mes (en megabytes)\n",
    "  - `usd_per_minute`: precio por minuto tras exceder los límites del paquete\n",
    "  - `usd_per_message`: precio por SMS tras exceder los límites del paquete\n",
    "  - `usd_per_gb`: precio por gigabyte de los datos extra tras exceder los límites del paquete (1 GB = 1024 megabytes)\n",
    "\n",
    "En este proyecto, nuestro objetivo es proporcionar un análisis detallado del comportamiento de los clientes y determinar cuál de las tarifas genera más ingresos para Megaline. Utilizaremos herramientas estadísticas para comparar las tarifas y ofrecer recomendaciones basadas en nuestros hallazgos."
   ]
  },
  {
   "cell_type": "markdown",
   "metadata": {},
   "source": [
    "## Etapa 1: Descripción de los datos <a id='data_review'></a>"
   ]
  },
  {
   "cell_type": "code",
   "execution_count": 1,
   "metadata": {},
   "outputs": [],
   "source": [
    "# Importación de librerías a utilizar\n",
    "import pandas as pd\n",
    "import numpy as np\n",
    "import matplotlib.pyplot as plt\n",
    "import scipy.stats as st\n",
    "import seaborn as sns"
   ]
  },
  {
   "cell_type": "code",
   "execution_count": 2,
   "metadata": {},
   "outputs": [],
   "source": [
    "# Cargar los datos de las tablas a utilizar\n",
    "df_users = pd.read_csv('/home/josue/Sprint 4 Análisis estadístico de datos/megaline_users.csv')\n",
    "df_calls = pd.read_csv('/home/josue/Sprint 4 Análisis estadístico de datos/megaline_calls.csv')\n",
    "df_messages = pd.read_csv('/home/josue/Sprint 4 Análisis estadístico de datos/megaline_messages.csv')\n",
    "df_internet = pd.read_csv('/home/josue/Sprint 4 Análisis estadístico de datos/megaline_internet.csv')\n",
    "df_plans = pd.read_csv('/home/josue/Sprint 4 Análisis estadístico de datos/megaline_plans.csv')"
   ]
  },
  {
   "cell_type": "code",
   "execution_count": 3,
   "metadata": {},
   "outputs": [
    {
     "name": "stdout",
     "output_type": "stream",
     "text": [
      "<class 'pandas.core.frame.DataFrame'>\n",
      "RangeIndex: 500 entries, 0 to 499\n",
      "Data columns (total 8 columns):\n",
      " #   Column      Non-Null Count  Dtype \n",
      "---  ------      --------------  ----- \n",
      " 0   user_id     500 non-null    int64 \n",
      " 1   first_name  500 non-null    object\n",
      " 2   last_name   500 non-null    object\n",
      " 3   age         500 non-null    int64 \n",
      " 4   city        500 non-null    object\n",
      " 5   reg_date    500 non-null    object\n",
      " 6   plan        500 non-null    object\n",
      " 7   churn_date  34 non-null     object\n",
      "dtypes: int64(2), object(6)\n",
      "memory usage: 31.4+ KB\n",
      "None\n",
      "\n",
      "<class 'pandas.core.frame.DataFrame'>\n",
      "RangeIndex: 137735 entries, 0 to 137734\n",
      "Data columns (total 4 columns):\n",
      " #   Column     Non-Null Count   Dtype  \n",
      "---  ------     --------------   -----  \n",
      " 0   id         137735 non-null  object \n",
      " 1   user_id    137735 non-null  int64  \n",
      " 2   call_date  137735 non-null  object \n",
      " 3   duration   137735 non-null  float64\n",
      "dtypes: float64(1), int64(1), object(2)\n",
      "memory usage: 4.2+ MB\n",
      "None\n",
      "\n",
      "<class 'pandas.core.frame.DataFrame'>\n",
      "RangeIndex: 76051 entries, 0 to 76050\n",
      "Data columns (total 3 columns):\n",
      " #   Column        Non-Null Count  Dtype \n",
      "---  ------        --------------  ----- \n",
      " 0   id            76051 non-null  object\n",
      " 1   user_id       76051 non-null  int64 \n",
      " 2   message_date  76051 non-null  object\n",
      "dtypes: int64(1), object(2)\n",
      "memory usage: 1.7+ MB\n",
      "None\n",
      "\n",
      "<class 'pandas.core.frame.DataFrame'>\n",
      "RangeIndex: 104825 entries, 0 to 104824\n",
      "Data columns (total 4 columns):\n",
      " #   Column        Non-Null Count   Dtype  \n",
      "---  ------        --------------   -----  \n",
      " 0   id            104825 non-null  object \n",
      " 1   user_id       104825 non-null  int64  \n",
      " 2   session_date  104825 non-null  object \n",
      " 3   mb_used       104825 non-null  float64\n",
      "dtypes: float64(1), int64(1), object(2)\n",
      "memory usage: 3.2+ MB\n",
      "None\n",
      "\n",
      "<class 'pandas.core.frame.DataFrame'>\n",
      "RangeIndex: 2 entries, 0 to 1\n",
      "Data columns (total 8 columns):\n",
      " #   Column                 Non-Null Count  Dtype  \n",
      "---  ------                 --------------  -----  \n",
      " 0   messages_included      2 non-null      int64  \n",
      " 1   mb_per_month_included  2 non-null      int64  \n",
      " 2   minutes_included       2 non-null      int64  \n",
      " 3   usd_monthly_pay        2 non-null      int64  \n",
      " 4   usd_per_gb             2 non-null      int64  \n",
      " 5   usd_per_message        2 non-null      float64\n",
      " 6   usd_per_minute         2 non-null      float64\n",
      " 7   plan_name              2 non-null      object \n",
      "dtypes: float64(2), int64(5), object(1)\n",
      "memory usage: 256.0+ bytes\n",
      "None\n",
      "\n"
     ]
    }
   ],
   "source": [
    "# Realizar un info de para saber mas sobre los datos\n",
    "df = [df_users, df_calls, df_messages, df_internet, df_plans]\n",
    "\n",
    "for row in df:\n",
    "    print(row.info())\n",
    "    print()"
   ]
  },
  {
   "cell_type": "code",
   "execution_count": 4,
   "metadata": {},
   "outputs": [
    {
     "name": "stdout",
     "output_type": "stream",
     "text": [
      "user_id         0\n",
      "first_name      0\n",
      "last_name       0\n",
      "age             0\n",
      "city            0\n",
      "reg_date        0\n",
      "plan            0\n",
      "churn_date    466\n",
      "dtype: int64\n",
      "\n",
      "Este DataFrame tiene 0 filas duplicadas\n",
      "id           0\n",
      "user_id      0\n",
      "call_date    0\n",
      "duration     0\n",
      "dtype: int64\n",
      "\n",
      "Este DataFrame tiene 0 filas duplicadas\n",
      "id              0\n",
      "user_id         0\n",
      "message_date    0\n",
      "dtype: int64\n",
      "\n",
      "Este DataFrame tiene 0 filas duplicadas\n",
      "id              0\n",
      "user_id         0\n",
      "session_date    0\n",
      "mb_used         0\n",
      "dtype: int64\n",
      "\n",
      "Este DataFrame tiene 0 filas duplicadas\n",
      "messages_included        0\n",
      "mb_per_month_included    0\n",
      "minutes_included         0\n",
      "usd_monthly_pay          0\n",
      "usd_per_gb               0\n",
      "usd_per_message          0\n",
      "usd_per_minute           0\n",
      "plan_name                0\n",
      "dtype: int64\n",
      "\n",
      "Este DataFrame tiene 0 filas duplicadas\n"
     ]
    }
   ],
   "source": [
    "# Realizar un duplicated para saber si hay valores duplicados o ausentes.\n",
    "\n",
    "for row in df:\n",
    "    print(row.isna().sum())\n",
    "    print()\n",
    "    print(f'Este DataFrame tiene {row.duplicated().sum()} filas duplicadas')"
   ]
  },
  {
   "cell_type": "markdown",
   "metadata": {},
   "source": [
    "## Conclusiones de descripción de los datos<a id='data_review_conclusions'></a>"
   ]
  },
  {
   "cell_type": "markdown",
   "metadata": {},
   "source": [
    "1. Primero se procedió a definir los df y extraer los datos de las 5 tablas, con un bucle for y el método info pudimos concluir que los datos ocupan algunas modificaciones como el tipo de datos en la fecha, mas adelante vamos a tener que atender esta problemática.\n",
    "2. Encontramos que 4 tablas no tienen valores faltantes o filas totalmente duplicadas lo cual es bueno y asegura una buena calidad de el análisis que se hará mas adelante, a excepción de la tabla `user` en la columna `churn_date` que encontramos 466 valores ausentes.\n",
    "3. También vemos que los nombres de las columnas se encuentran normalizados, es decir siguen las reglas correctas de escritura, ademas no encontramos espacios u algún otro error.\n",
    "4. Para estar seguros de la calidad en la siguiente etapa, observaremos a detalle si los los valores únicos que identifican cada fila en cada tabla no están repetidos, para así, estar mas seguros del análisis a realizar."
   ]
  },
  {
   "cell_type": "markdown",
   "metadata": {},
   "source": [
    "## Etapa 2: Preprocesamiento de datos <a id='data_preprocessing'></a>"
   ]
  },
  {
   "cell_type": "markdown",
   "metadata": {},
   "source": [
    "### 2.1 Valores duplicados <a id='duplicates'></a>"
   ]
  },
  {
   "cell_type": "markdown",
   "metadata": {},
   "source": [
    "Como se hizo en en análisis anterior, no tenemos valor de filas duplicadas, pero siempre es bueno evaluar los df por separado, saber mas de ellos y de su identificador único, si nos aseguramos de ello, al momento de las decisiones, serán las correctas. A continuación, realizaremos por df un análisis de sus filas repetidas, en especial `id_unico` de cada tabla."
   ]
  },
  {
   "cell_type": "markdown",
   "metadata": {},
   "source": [
    "### Verificación de `user_id` en la tabla users"
   ]
  },
  {
   "cell_type": "code",
   "execution_count": 5,
   "metadata": {},
   "outputs": [
    {
     "name": "stdout",
     "output_type": "stream",
     "text": [
      "La columna user_id no tiene valores repetidos\n",
      "La columna first_name tiene valores repetidos\n",
      "     user_id first_name  last_name  age  \\\n",
      "46      1046      Beata     Hooper   67   \n",
      "56      1056      Denis   Chandler   33   \n",
      "88      1088      Paris  Robertson   64   \n",
      "107     1107       Lane       Cash   61   \n",
      "109     1109    Dominic    Salinas   41   \n",
      "\n",
      "                                          city    reg_date      plan  \\\n",
      "46          Boston-Cambridge-Newton, MA-NH MSA  2018-02-19      surf   \n",
      "56                    Cincinnati, OH-KY-IN MSA  2018-03-01      surf   \n",
      "88               Phoenix-Mesa-Chandler, AZ MSA  2018-05-27  ultimate   \n",
      "107  New York-Newark-Jersey City, NY-NJ-PA MSA  2018-11-15  ultimate   \n",
      "109  New York-Newark-Jersey City, NY-NJ-PA MSA  2018-02-16      surf   \n",
      "\n",
      "    churn_date  \n",
      "46         NaN  \n",
      "56         NaN  \n",
      "88         NaN  \n",
      "107        NaN  \n",
      "109        NaN  \n",
      "\n",
      "\n",
      "La columna last_name tiene valores repetidos\n",
      "     user_id first_name  last_name  age  \\\n",
      "8       1008      Emely    Hoffman   53   \n",
      "38      1038    Olympia  Velazquez   32   \n",
      "60      1060    Denisse     Santos   53   \n",
      "108     1108   Porfirio       Kane   45   \n",
      "109     1109    Dominic    Salinas   41   \n",
      "\n",
      "                                                 city    reg_date      plan  \\\n",
      "8                   Orlando-Kissimmee-Sanford, FL MSA  2018-08-03  ultimate   \n",
      "38   Nashville-Davidson–Murfreesboro–Franklin, TN MSA  2018-06-25  ultimate   \n",
      "60              Atlanta-Sandy Springs-Roswell, GA MSA  2018-04-07      surf   \n",
      "108                            Salt Lake City, UT MSA  2018-12-30  ultimate   \n",
      "109         New York-Newark-Jersey City, NY-NJ-PA MSA  2018-02-16      surf   \n",
      "\n",
      "    churn_date  \n",
      "8          NaN  \n",
      "38         NaN  \n",
      "60         NaN  \n",
      "108        NaN  \n",
      "109        NaN  \n",
      "\n",
      "\n",
      "La columna age tiene valores repetidos\n",
      "    user_id first_name last_name  age  \\\n",
      "10     1010     Wilber     Blair   52   \n",
      "11     1011     Halina     Henry   73   \n",
      "17     1017      Boris     Gates   61   \n",
      "22     1022         Bo      Snow   73   \n",
      "23     1023       Jack   Delaney   70   \n",
      "\n",
      "                                                city    reg_date      plan  \\\n",
      "10               Dallas-Fort Worth-Arlington, TX MSA  2018-03-09      surf   \n",
      "11                          Cleveland-Elyria, OH MSA  2018-01-18  ultimate   \n",
      "17  Washington-Arlington-Alexandria, DC-VA-MD-WV MSA  2018-08-26      surf   \n",
      "22         New York-Newark-Jersey City, NY-NJ-PA MSA  2018-04-20      surf   \n",
      "23                   Omaha-Council Bluffs, NE-IA MSA  2018-07-06      surf   \n",
      "\n",
      "    churn_date  \n",
      "10         NaN  \n",
      "11         NaN  \n",
      "17         NaN  \n",
      "22  2018-09-07  \n",
      "23         NaN  \n",
      "\n",
      "\n",
      "La columna city tiene valores repetidos\n",
      "    user_id first_name last_name  age  \\\n",
      "4      1004    Leonila  Thompson   40   \n",
      "10     1010     Wilber     Blair   52   \n",
      "20     1020      Rutha      Bell   56   \n",
      "22     1022         Bo      Snow   73   \n",
      "24     1024       Yuki     Tyson   74   \n",
      "\n",
      "                                         city    reg_date  plan  churn_date  \n",
      "4             Seattle-Tacoma-Bellevue, WA MSA  2018-05-23  surf         NaN  \n",
      "10        Dallas-Fort Worth-Arlington, TX MSA  2018-03-09  surf         NaN  \n",
      "20        Dallas-Fort Worth-Arlington, TX MSA  2018-11-08  surf         NaN  \n",
      "22  New York-Newark-Jersey City, NY-NJ-PA MSA  2018-04-20  surf  2018-09-07  \n",
      "24  New York-Newark-Jersey City, NY-NJ-PA MSA  2018-08-21  surf         NaN  \n",
      "\n",
      "\n",
      "La columna reg_date tiene valores repetidos\n",
      "    user_id first_name   last_name  age  \\\n",
      "34     1034         Jc      Gentry   22   \n",
      "39     1039        Flo       Hicks   56   \n",
      "49     1049      Loise       Avery   25   \n",
      "59     1059      Avril  Richardson   34   \n",
      "65     1065    Sherlyn        Noel   26   \n",
      "\n",
      "                                         city    reg_date      plan churn_date  \n",
      "34  New York-Newark-Jersey City, NY-NJ-PA MSA  2018-08-13      surf        NaN  \n",
      "39                           Columbus, OH MSA  2018-05-30  ultimate        NaN  \n",
      "49  New York-Newark-Jersey City, NY-NJ-PA MSA  2018-02-21      surf        NaN  \n",
      "59     Chicago-Naperville-Elgin, IL-IN-WI MSA  2018-04-22  ultimate        NaN  \n",
      "65     Los Angeles-Long Beach-Anaheim, CA MSA  2018-08-03      surf        NaN  \n",
      "\n",
      "\n",
      "La columna plan tiene valores repetidos\n",
      "   user_id first_name last_name  age                                    city  \\\n",
      "2     1002     Carlee   Hoffman   36    Las Vegas-Henderson-Paradise, NV MSA   \n",
      "3     1003   Reynaldo   Jenkins   52                           Tulsa, OK MSA   \n",
      "4     1004    Leonila  Thompson   40         Seattle-Tacoma-Bellevue, WA MSA   \n",
      "5     1005      Livia   Shields   31     Dallas-Fort Worth-Arlington, TX MSA   \n",
      "6     1006     Jesusa  Bradford   73  San Francisco-Oakland-Berkeley, CA MSA   \n",
      "\n",
      "     reg_date      plan  churn_date  \n",
      "2  2018-10-21      surf         NaN  \n",
      "3  2018-01-28      surf         NaN  \n",
      "4  2018-05-23      surf         NaN  \n",
      "5  2018-11-29      surf         NaN  \n",
      "6  2018-11-27  ultimate  2018-12-18  \n",
      "\n",
      "\n",
      "La columna churn_date tiene valores repetidos\n",
      "   user_id first_name  last_name  age                                  city  \\\n",
      "1     1001     Mickey  Wilkerson   28       Seattle-Tacoma-Bellevue, WA MSA   \n",
      "2     1002     Carlee    Hoffman   36  Las Vegas-Henderson-Paradise, NV MSA   \n",
      "3     1003   Reynaldo    Jenkins   52                         Tulsa, OK MSA   \n",
      "4     1004    Leonila   Thompson   40       Seattle-Tacoma-Bellevue, WA MSA   \n",
      "5     1005      Livia    Shields   31   Dallas-Fort Worth-Arlington, TX MSA   \n",
      "\n",
      "     reg_date  plan churn_date  \n",
      "1  2018-08-13  surf        NaN  \n",
      "2  2018-10-21  surf        NaN  \n",
      "3  2018-01-28  surf        NaN  \n",
      "4  2018-05-23  surf        NaN  \n",
      "5  2018-11-29  surf        NaN  \n",
      "\n",
      "\n"
     ]
    }
   ],
   "source": [
    "for col in df_users.columns:\n",
    "    duplicated = df_users[col].duplicated()\n",
    "    if duplicated.any():\n",
    "        print(f'La columna {col} tiene valores repetidos')\n",
    "        print(df_users[duplicated].head())\n",
    "        print('\\n')\n",
    "    else:\n",
    "        print(f'La columna {col} no tiene valores repetidos')"
   ]
  },
  {
   "cell_type": "markdown",
   "metadata": {},
   "source": [
    "Después de ejecutar este bucle vemos que el identificador único no tiene duplicidades lo cual es muy bueno, también es importante observar que que contrario a lo que arrojo los valores ausentes, en este df si hay en `churn_date`, además en `reg_date` tenemos que cambiarla a tipo de dato en fecha, mas adelante daremos solución a esto."
   ]
  },
  {
   "cell_type": "markdown",
   "metadata": {},
   "source": [
    "### Identificador único de `id` en la tabla calls"
   ]
  },
  {
   "cell_type": "code",
   "execution_count": 6,
   "metadata": {},
   "outputs": [
    {
     "name": "stdout",
     "output_type": "stream",
     "text": [
      "La columna id no tiene valores repetidos\n",
      "La columna user_id tiene valores duplicados\n",
      "0    1000\n",
      "1    1000\n",
      "2    1000\n",
      "3    1000\n",
      "4    1000\n",
      "Name: user_id, dtype: int64\n",
      "\n",
      "\n",
      "La columna call_date tiene valores duplicados\n",
      "0    2018-12-27\n",
      "1    2018-12-27\n",
      "2    2018-12-27\n",
      "3    2018-12-28\n",
      "4    2018-12-30\n",
      "Name: call_date, dtype: object\n",
      "\n",
      "\n",
      "La columna duration tiene valores duplicados\n",
      "0     8.52\n",
      "1    13.66\n",
      "2    14.48\n",
      "3     5.76\n",
      "4     4.22\n",
      "Name: duration, dtype: float64\n",
      "\n",
      "\n"
     ]
    }
   ],
   "source": [
    "for col in df_calls.columns:\n",
    "    duplicated = df_calls[col].duplicated()\n",
    "    if duplicated.any():\n",
    "        print(f'La columna {col} tiene valores duplicados')\n",
    "        print(df_calls[col].head())\n",
    "        print('\\n')\n",
    "    else:\n",
    "        print(f'La columna {col} no tiene valores repetidos')\n",
    "    "
   ]
  },
  {
   "cell_type": "markdown",
   "metadata": {},
   "source": [
    "Esta tabla se encuentra en excelente condiciones no tiene valores duplicados en su identificador único `id`, sólo se tendrá que cambiar el tipo de dato de `call_date` a un tipo de dato de fecha."
   ]
  },
  {
   "cell_type": "markdown",
   "metadata": {},
   "source": [
    "### Identificador único `id` de la tabla messages"
   ]
  },
  {
   "cell_type": "code",
   "execution_count": 7,
   "metadata": {},
   "outputs": [
    {
     "name": "stdout",
     "output_type": "stream",
     "text": [
      "La columna id no tiene valores repetidos\n",
      "La columna user_id tiene valores duplicados\n",
      "0    1000\n",
      "1    1000\n",
      "2    1000\n",
      "3    1000\n",
      "4    1000\n",
      "Name: user_id, dtype: int64\n",
      "\n",
      "\n",
      "La columna message_date tiene valores duplicados\n",
      "0    2018-12-27\n",
      "1    2018-12-31\n",
      "2    2018-12-31\n",
      "3    2018-12-27\n",
      "4    2018-12-26\n",
      "Name: message_date, dtype: object\n",
      "\n",
      "\n"
     ]
    }
   ],
   "source": [
    "for col in df_messages.columns:\n",
    "    duplicated = df_messages[col].duplicated()\n",
    "    if duplicated.any():\n",
    "        print(f'La columna {col} tiene valores duplicados')\n",
    "        print(df_messages[col].head())\n",
    "        print('\\n')\n",
    "    else:\n",
    "        print(f'La columna {col} no tiene valores repetidos')"
   ]
  },
  {
   "cell_type": "markdown",
   "metadata": {},
   "source": [
    "Los datos se encuentran en buenas condiciones, el identificador único `id` no tiene valores repetidos, sólo se tendrá que convertir la columna `message_date` a un tipo de dato de fecha."
   ]
  },
  {
   "cell_type": "markdown",
   "metadata": {},
   "source": [
    "### Identificador único `id` de la tabla internet"
   ]
  },
  {
   "cell_type": "code",
   "execution_count": 8,
   "metadata": {},
   "outputs": [
    {
     "name": "stdout",
     "output_type": "stream",
     "text": [
      "La columna id no tiene valores repetidos\n",
      "La columna user_id tiene valores repetidos\n",
      "0    1000\n",
      "1    1000\n",
      "2    1000\n",
      "3    1000\n",
      "4    1000\n",
      "Name: user_id, dtype: int64\n",
      "\n",
      "\n",
      "La columna session_date tiene valores repetidos\n",
      "0    2018-12-29\n",
      "1    2018-12-31\n",
      "2    2018-12-28\n",
      "3    2018-12-26\n",
      "4    2018-12-27\n",
      "Name: session_date, dtype: object\n",
      "\n",
      "\n",
      "La columna mb_used tiene valores repetidos\n",
      "0     89.86\n",
      "1      0.00\n",
      "2    660.40\n",
      "3    270.99\n",
      "4    880.22\n",
      "Name: mb_used, dtype: float64\n",
      "\n",
      "\n"
     ]
    }
   ],
   "source": [
    "for col in df_internet.columns:\n",
    "    duplicated = df_internet[col].duplicated()\n",
    "    if duplicated.any():\n",
    "        print(f'La columna {col} tiene valores repetidos')\n",
    "        print(df_internet[col].head())\n",
    "        print('\\n')\n",
    "    else:\n",
    "        print(f'La columna {col} no tiene valores repetidos')"
   ]
  },
  {
   "cell_type": "markdown",
   "metadata": {},
   "source": [
    "El identificador único `id` no tiene valores duplicados, solo se tiene que cambiar de tipo de dato la columna `session_date` a un tipo de dato de fecha. "
   ]
  },
  {
   "cell_type": "markdown",
   "metadata": {},
   "source": [
    "### Tabla plans"
   ]
  },
  {
   "cell_type": "code",
   "execution_count": 9,
   "metadata": {},
   "outputs": [
    {
     "data": {
      "text/html": [
       "<div>\n",
       "<style scoped>\n",
       "    .dataframe tbody tr th:only-of-type {\n",
       "        vertical-align: middle;\n",
       "    }\n",
       "\n",
       "    .dataframe tbody tr th {\n",
       "        vertical-align: top;\n",
       "    }\n",
       "\n",
       "    .dataframe thead th {\n",
       "        text-align: right;\n",
       "    }\n",
       "</style>\n",
       "<table border=\"1\" class=\"dataframe\">\n",
       "  <thead>\n",
       "    <tr style=\"text-align: right;\">\n",
       "      <th></th>\n",
       "      <th>messages_included</th>\n",
       "      <th>mb_per_month_included</th>\n",
       "      <th>minutes_included</th>\n",
       "      <th>usd_monthly_pay</th>\n",
       "      <th>usd_per_gb</th>\n",
       "      <th>usd_per_message</th>\n",
       "      <th>usd_per_minute</th>\n",
       "      <th>plan_name</th>\n",
       "    </tr>\n",
       "  </thead>\n",
       "  <tbody>\n",
       "    <tr>\n",
       "      <th>0</th>\n",
       "      <td>50</td>\n",
       "      <td>15360</td>\n",
       "      <td>500</td>\n",
       "      <td>20</td>\n",
       "      <td>10</td>\n",
       "      <td>0.03</td>\n",
       "      <td>0.03</td>\n",
       "      <td>surf</td>\n",
       "    </tr>\n",
       "    <tr>\n",
       "      <th>1</th>\n",
       "      <td>1000</td>\n",
       "      <td>30720</td>\n",
       "      <td>3000</td>\n",
       "      <td>70</td>\n",
       "      <td>7</td>\n",
       "      <td>0.01</td>\n",
       "      <td>0.01</td>\n",
       "      <td>ultimate</td>\n",
       "    </tr>\n",
       "  </tbody>\n",
       "</table>\n",
       "</div>"
      ],
      "text/plain": [
       "   messages_included  mb_per_month_included  minutes_included  \\\n",
       "0                 50                  15360               500   \n",
       "1               1000                  30720              3000   \n",
       "\n",
       "   usd_monthly_pay  usd_per_gb  usd_per_message  usd_per_minute plan_name  \n",
       "0               20          10             0.03            0.03      surf  \n",
       "1               70           7             0.01            0.01  ultimate  "
      ]
     },
     "execution_count": 9,
     "metadata": {},
     "output_type": "execute_result"
    }
   ],
   "source": [
    "df_plans"
   ]
  },
  {
   "cell_type": "markdown",
   "metadata": {},
   "source": [
    "### 2.2 Valores ausentes <a id='missing_values'></a>"
   ]
  },
  {
   "cell_type": "markdown",
   "metadata": {},
   "source": [
    "Los únicos valores ausentes de nuestras 5 tablas se encuentran en la tabla `users` en la columna `churn_date` contaremos los valores faltantes en esta columna."
   ]
  },
  {
   "cell_type": "code",
   "execution_count": 10,
   "metadata": {},
   "outputs": [
    {
     "name": "stdout",
     "output_type": "stream",
     "text": [
      "466\n"
     ]
    }
   ],
   "source": [
    "# Contar los valores NaN en la columna 'churn_date'\n",
    "nan_count = df_users['churn_date'].isna().sum()\n",
    "\n",
    "# Imprimir el resultado\n",
    "print(nan_count)"
   ]
  },
  {
   "cell_type": "markdown",
   "metadata": {},
   "source": [
    "En la explicación megaline nos dice que los valores ausentes de `churn_date` son los usuarios que siguen actualmente en el plan, es decir usuarios activos, los que tienen datos son de usuarios que en el pasado dejaron la empresa, de esta forma con la palabra 'using' vamos a sustituir estos valores ausentes. "
   ]
  },
  {
   "cell_type": "code",
   "execution_count": 11,
   "metadata": {},
   "outputs": [],
   "source": [
    "df_users['churn_date'].fillna('using', inplace=True)"
   ]
  },
  {
   "cell_type": "code",
   "execution_count": 12,
   "metadata": {},
   "outputs": [
    {
     "name": "stdout",
     "output_type": "stream",
     "text": [
      "0\n"
     ]
    }
   ],
   "source": [
    "# Contar los valores NaN en la columna 'churn_date'\n",
    "nan_count = df_users['churn_date'].isna().sum()\n",
    "\n",
    "# Imprimir el resultado\n",
    "print(nan_count)"
   ]
  },
  {
   "cell_type": "markdown",
   "metadata": {},
   "source": [
    "Hemos solucionado los valores ausentes de nuestros datos, pasemos a la última parte, los tipos de datos."
   ]
  },
  {
   "cell_type": "markdown",
   "metadata": {},
   "source": [
    "### 2.3 Tipos de datos <a id='data_type'></a>"
   ]
  },
  {
   "cell_type": "code",
   "execution_count": 13,
   "metadata": {},
   "outputs": [
    {
     "name": "stdout",
     "output_type": "stream",
     "text": [
      "<class 'pandas.core.frame.DataFrame'>\n",
      "RangeIndex: 500 entries, 0 to 499\n",
      "Data columns (total 8 columns):\n",
      " #   Column      Non-Null Count  Dtype \n",
      "---  ------      --------------  ----- \n",
      " 0   user_id     500 non-null    int64 \n",
      " 1   first_name  500 non-null    object\n",
      " 2   last_name   500 non-null    object\n",
      " 3   age         500 non-null    int64 \n",
      " 4   city        500 non-null    object\n",
      " 5   reg_date    500 non-null    object\n",
      " 6   plan        500 non-null    object\n",
      " 7   churn_date  500 non-null    object\n",
      "dtypes: int64(2), object(6)\n",
      "memory usage: 31.4+ KB\n",
      "None\n",
      "\n",
      "\n",
      "<class 'pandas.core.frame.DataFrame'>\n",
      "RangeIndex: 137735 entries, 0 to 137734\n",
      "Data columns (total 4 columns):\n",
      " #   Column     Non-Null Count   Dtype  \n",
      "---  ------     --------------   -----  \n",
      " 0   id         137735 non-null  object \n",
      " 1   user_id    137735 non-null  int64  \n",
      " 2   call_date  137735 non-null  object \n",
      " 3   duration   137735 non-null  float64\n",
      "dtypes: float64(1), int64(1), object(2)\n",
      "memory usage: 4.2+ MB\n",
      "None\n",
      "\n",
      "\n",
      "<class 'pandas.core.frame.DataFrame'>\n",
      "RangeIndex: 76051 entries, 0 to 76050\n",
      "Data columns (total 3 columns):\n",
      " #   Column        Non-Null Count  Dtype \n",
      "---  ------        --------------  ----- \n",
      " 0   id            76051 non-null  object\n",
      " 1   user_id       76051 non-null  int64 \n",
      " 2   message_date  76051 non-null  object\n",
      "dtypes: int64(1), object(2)\n",
      "memory usage: 1.7+ MB\n",
      "None\n",
      "\n",
      "\n",
      "<class 'pandas.core.frame.DataFrame'>\n",
      "RangeIndex: 104825 entries, 0 to 104824\n",
      "Data columns (total 4 columns):\n",
      " #   Column        Non-Null Count   Dtype  \n",
      "---  ------        --------------   -----  \n",
      " 0   id            104825 non-null  object \n",
      " 1   user_id       104825 non-null  int64  \n",
      " 2   session_date  104825 non-null  object \n",
      " 3   mb_used       104825 non-null  float64\n",
      "dtypes: float64(1), int64(1), object(2)\n",
      "memory usage: 3.2+ MB\n",
      "None\n",
      "\n",
      "\n",
      "<class 'pandas.core.frame.DataFrame'>\n",
      "RangeIndex: 2 entries, 0 to 1\n",
      "Data columns (total 8 columns):\n",
      " #   Column                 Non-Null Count  Dtype  \n",
      "---  ------                 --------------  -----  \n",
      " 0   messages_included      2 non-null      int64  \n",
      " 1   mb_per_month_included  2 non-null      int64  \n",
      " 2   minutes_included       2 non-null      int64  \n",
      " 3   usd_monthly_pay        2 non-null      int64  \n",
      " 4   usd_per_gb             2 non-null      int64  \n",
      " 5   usd_per_message        2 non-null      float64\n",
      " 6   usd_per_minute         2 non-null      float64\n",
      " 7   plan_name              2 non-null      object \n",
      "dtypes: float64(2), int64(5), object(1)\n",
      "memory usage: 256.0+ bytes\n",
      "None\n",
      "\n",
      "\n"
     ]
    }
   ],
   "source": [
    "for row in df:\n",
    "    print(row.info())\n",
    "    print()\n",
    "    print()"
   ]
  },
  {
   "cell_type": "markdown",
   "metadata": {},
   "source": [
    "Después de analizar a detalle los tipos de datos, cambiaremos algunas columnas a un tipo de dato correcto para poder pasar al análisis de datos."
   ]
  },
  {
   "cell_type": "code",
   "execution_count": 14,
   "metadata": {},
   "outputs": [],
   "source": [
    "# Columna reg_date\n",
    "df_users['reg_date'] = pd.to_datetime(df_users['reg_date'])\n",
    "\n",
    "# Columna call_date\n",
    "df_calls['call_date'] = pd.to_datetime(df_calls['call_date'])\n",
    "\n",
    "# Columna message_date\n",
    "df_messages['message_date'] = pd.to_datetime(df_messages['message_date'])\n",
    "\n",
    "# Columna session_date\n",
    "df_internet['session_date'] = pd.to_datetime(df_internet['session_date'])\n"
   ]
  },
  {
   "cell_type": "code",
   "execution_count": 15,
   "metadata": {},
   "outputs": [
    {
     "name": "stdout",
     "output_type": "stream",
     "text": [
      "   user_id first_name  last_name  age                                   city  \\\n",
      "0     1000   Anamaria      Bauer   45  Atlanta-Sandy Springs-Roswell, GA MSA   \n",
      "1     1001     Mickey  Wilkerson   28        Seattle-Tacoma-Bellevue, WA MSA   \n",
      "2     1002     Carlee    Hoffman   36   Las Vegas-Henderson-Paradise, NV MSA   \n",
      "3     1003   Reynaldo    Jenkins   52                          Tulsa, OK MSA   \n",
      "4     1004    Leonila   Thompson   40        Seattle-Tacoma-Bellevue, WA MSA   \n",
      "\n",
      "    reg_date      plan churn_date  \n",
      "0 2018-12-24  ultimate      using  \n",
      "1 2018-08-13      surf      using  \n",
      "2 2018-10-21      surf      using  \n",
      "3 2018-01-28      surf      using  \n",
      "4 2018-05-23      surf      using  \n",
      "\n",
      "\n",
      "         id  user_id  call_date  duration\n",
      "0   1000_93     1000 2018-12-27      8.52\n",
      "1  1000_145     1000 2018-12-27     13.66\n",
      "2  1000_247     1000 2018-12-27     14.48\n",
      "3  1000_309     1000 2018-12-28      5.76\n",
      "4  1000_380     1000 2018-12-30      4.22\n",
      "\n",
      "\n",
      "         id  user_id message_date\n",
      "0  1000_125     1000   2018-12-27\n",
      "1  1000_160     1000   2018-12-31\n",
      "2  1000_223     1000   2018-12-31\n",
      "3  1000_251     1000   2018-12-27\n",
      "4  1000_255     1000   2018-12-26\n",
      "\n",
      "\n",
      "         id  user_id session_date  mb_used\n",
      "0   1000_13     1000   2018-12-29    89.86\n",
      "1  1000_204     1000   2018-12-31     0.00\n",
      "2  1000_379     1000   2018-12-28   660.40\n",
      "3  1000_413     1000   2018-12-26   270.99\n",
      "4  1000_442     1000   2018-12-27   880.22\n",
      "\n",
      "\n",
      "   messages_included  mb_per_month_included  minutes_included  \\\n",
      "0                 50                  15360               500   \n",
      "1               1000                  30720              3000   \n",
      "\n",
      "   usd_monthly_pay  usd_per_gb  usd_per_message  usd_per_minute plan_name  \n",
      "0               20          10             0.03            0.03      surf  \n",
      "1               70           7             0.01            0.01  ultimate  \n",
      "\n",
      "\n"
     ]
    }
   ],
   "source": [
    "for col in df:\n",
    "    print(col.head())\n",
    "    print()\n",
    "    print()"
   ]
  },
  {
   "cell_type": "code",
   "execution_count": 16,
   "metadata": {},
   "outputs": [
    {
     "name": "stdout",
     "output_type": "stream",
     "text": [
      "<class 'pandas.core.frame.DataFrame'>\n",
      "RangeIndex: 500 entries, 0 to 499\n",
      "Data columns (total 8 columns):\n",
      " #   Column      Non-Null Count  Dtype         \n",
      "---  ------      --------------  -----         \n",
      " 0   user_id     500 non-null    int64         \n",
      " 1   first_name  500 non-null    object        \n",
      " 2   last_name   500 non-null    object        \n",
      " 3   age         500 non-null    int64         \n",
      " 4   city        500 non-null    object        \n",
      " 5   reg_date    500 non-null    datetime64[ns]\n",
      " 6   plan        500 non-null    object        \n",
      " 7   churn_date  500 non-null    object        \n",
      "dtypes: datetime64[ns](1), int64(2), object(5)\n",
      "memory usage: 31.4+ KB\n",
      "None\n",
      "\n",
      "\n",
      "<class 'pandas.core.frame.DataFrame'>\n",
      "RangeIndex: 137735 entries, 0 to 137734\n",
      "Data columns (total 4 columns):\n",
      " #   Column     Non-Null Count   Dtype         \n",
      "---  ------     --------------   -----         \n",
      " 0   id         137735 non-null  object        \n",
      " 1   user_id    137735 non-null  int64         \n",
      " 2   call_date  137735 non-null  datetime64[ns]\n",
      " 3   duration   137735 non-null  float64       \n",
      "dtypes: datetime64[ns](1), float64(1), int64(1), object(1)\n",
      "memory usage: 4.2+ MB\n",
      "None\n",
      "\n",
      "\n",
      "<class 'pandas.core.frame.DataFrame'>\n",
      "RangeIndex: 76051 entries, 0 to 76050\n",
      "Data columns (total 3 columns):\n",
      " #   Column        Non-Null Count  Dtype         \n",
      "---  ------        --------------  -----         \n",
      " 0   id            76051 non-null  object        \n",
      " 1   user_id       76051 non-null  int64         \n",
      " 2   message_date  76051 non-null  datetime64[ns]\n",
      "dtypes: datetime64[ns](1), int64(1), object(1)\n",
      "memory usage: 1.7+ MB\n",
      "None\n",
      "\n",
      "\n",
      "<class 'pandas.core.frame.DataFrame'>\n",
      "RangeIndex: 104825 entries, 0 to 104824\n",
      "Data columns (total 4 columns):\n",
      " #   Column        Non-Null Count   Dtype         \n",
      "---  ------        --------------   -----         \n",
      " 0   id            104825 non-null  object        \n",
      " 1   user_id       104825 non-null  int64         \n",
      " 2   session_date  104825 non-null  datetime64[ns]\n",
      " 3   mb_used       104825 non-null  float64       \n",
      "dtypes: datetime64[ns](1), float64(1), int64(1), object(1)\n",
      "memory usage: 3.2+ MB\n",
      "None\n",
      "\n",
      "\n",
      "<class 'pandas.core.frame.DataFrame'>\n",
      "RangeIndex: 2 entries, 0 to 1\n",
      "Data columns (total 8 columns):\n",
      " #   Column                 Non-Null Count  Dtype  \n",
      "---  ------                 --------------  -----  \n",
      " 0   messages_included      2 non-null      int64  \n",
      " 1   mb_per_month_included  2 non-null      int64  \n",
      " 2   minutes_included       2 non-null      int64  \n",
      " 3   usd_monthly_pay        2 non-null      int64  \n",
      " 4   usd_per_gb             2 non-null      int64  \n",
      " 5   usd_per_message        2 non-null      float64\n",
      " 6   usd_per_minute         2 non-null      float64\n",
      " 7   plan_name              2 non-null      object \n",
      "dtypes: float64(2), int64(5), object(1)\n",
      "memory usage: 256.0+ bytes\n",
      "None\n",
      "\n",
      "\n"
     ]
    }
   ],
   "source": [
    "for row in df:\n",
    "    print(row.info())\n",
    "    print()\n",
    "    print()"
   ]
  },
  {
   "cell_type": "markdown",
   "metadata": {},
   "source": [
    "Primero con la ayuda de info vimos los tipos de datos de cada tabla, después observamos que algunas columnas tenían un formato no correcto de fecha, por lo que se tuvo que corregir, 4 columnas de 5 que debían tener formato de fecha fueron cambiados y actualizados, solo la columna `churn_date` no fue cambiada debido a que tiene datos en formato de texto, así que esta quedará en tipo de dato object. Una vez realizado esto, tenemos la confianza que nuestro análisis será muy bueno."
   ]
  },
  {
   "cell_type": "markdown",
   "metadata": {},
   "source": [
    "### 2.4 Conclusiones <a id='data_preprocessing_conclusions'></a>"
   ]
  },
  {
   "cell_type": "markdown",
   "metadata": {},
   "source": [
    "En esta etapa preprocesamiento de datos validamos que los datos fueran correctos, hicimos unas modificaciones para asegurarnos de que fueran de mucha calidad. \n",
    "1. Primero buscamos valores ausentes lo cual sólo estuvieron en una columna, vimos la mejor forma de sustituirlos y lo hicimos, también 4 tablas tienen un identificador único, nos aseguramos de que valga la redundancia fueran únicos y no estuvieran repetidos.\n",
    "2. Al finalizar analizamos sus tipos de datos de cada tabla, hicimos los cambios pertinentes y dejamos los datos listos, para la siguiente etapa."
   ]
  },
  {
   "cell_type": "markdown",
   "metadata": {},
   "source": [
    "## Etapa 3: Análisis de los datos <a id='data_analyst'></a>"
   ]
  },
  {
   "cell_type": "markdown",
   "metadata": {},
   "source": [
    "Una vez llegado a este punto empezaremos a entender de mejor forma lo que se nos pide, primero tenemos que conocer a detalle las dos tarifas que maneja megaline. Así que vamos a compararlas."
   ]
  },
  {
   "cell_type": "code",
   "execution_count": 17,
   "metadata": {},
   "outputs": [
    {
     "data": {
      "text/html": [
       "<div>\n",
       "<style scoped>\n",
       "    .dataframe tbody tr th:only-of-type {\n",
       "        vertical-align: middle;\n",
       "    }\n",
       "\n",
       "    .dataframe tbody tr th {\n",
       "        vertical-align: top;\n",
       "    }\n",
       "\n",
       "    .dataframe thead th {\n",
       "        text-align: right;\n",
       "    }\n",
       "</style>\n",
       "<table border=\"1\" class=\"dataframe\">\n",
       "  <thead>\n",
       "    <tr style=\"text-align: right;\">\n",
       "      <th></th>\n",
       "      <th>messages_included</th>\n",
       "      <th>mb_per_month_included</th>\n",
       "      <th>minutes_included</th>\n",
       "      <th>usd_monthly_pay</th>\n",
       "      <th>usd_per_gb</th>\n",
       "      <th>usd_per_message</th>\n",
       "      <th>usd_per_minute</th>\n",
       "      <th>plan_name</th>\n",
       "    </tr>\n",
       "  </thead>\n",
       "  <tbody>\n",
       "    <tr>\n",
       "      <th>0</th>\n",
       "      <td>50</td>\n",
       "      <td>15360</td>\n",
       "      <td>500</td>\n",
       "      <td>20</td>\n",
       "      <td>10</td>\n",
       "      <td>0.03</td>\n",
       "      <td>0.03</td>\n",
       "      <td>surf</td>\n",
       "    </tr>\n",
       "    <tr>\n",
       "      <th>1</th>\n",
       "      <td>1000</td>\n",
       "      <td>30720</td>\n",
       "      <td>3000</td>\n",
       "      <td>70</td>\n",
       "      <td>7</td>\n",
       "      <td>0.01</td>\n",
       "      <td>0.01</td>\n",
       "      <td>ultimate</td>\n",
       "    </tr>\n",
       "  </tbody>\n",
       "</table>\n",
       "</div>"
      ],
      "text/plain": [
       "   messages_included  mb_per_month_included  minutes_included  \\\n",
       "0                 50                  15360               500   \n",
       "1               1000                  30720              3000   \n",
       "\n",
       "   usd_monthly_pay  usd_per_gb  usd_per_message  usd_per_minute plan_name  \n",
       "0               20          10             0.03            0.03      surf  \n",
       "1               70           7             0.01            0.01  ultimate  "
      ]
     },
     "execution_count": 17,
     "metadata": {},
     "output_type": "execute_result"
    }
   ],
   "source": [
    "df_plans.head()"
   ]
  },
  {
   "cell_type": "markdown",
   "metadata": {},
   "source": [
    "Una vez conociendo los datos para cada plan y teniendo en cuenta lo que incluye, vamos a pasar al análisis."
   ]
  },
  {
   "cell_type": "markdown",
   "metadata": {},
   "source": [
    "### Extracción de consumos de usuario por llamadas, mensajes y tráfico de internet <a id='extractions'></a> "
   ]
  },
  {
   "cell_type": "code",
   "execution_count": 18,
   "metadata": {},
   "outputs": [
    {
     "data": {
      "text/html": [
       "<div>\n",
       "<style scoped>\n",
       "    .dataframe tbody tr th:only-of-type {\n",
       "        vertical-align: middle;\n",
       "    }\n",
       "\n",
       "    .dataframe tbody tr th {\n",
       "        vertical-align: top;\n",
       "    }\n",
       "\n",
       "    .dataframe thead th {\n",
       "        text-align: right;\n",
       "    }\n",
       "</style>\n",
       "<table border=\"1\" class=\"dataframe\">\n",
       "  <thead>\n",
       "    <tr style=\"text-align: right;\">\n",
       "      <th></th>\n",
       "      <th>user_id</th>\n",
       "      <th>month</th>\n",
       "      <th>call_count</th>\n",
       "      <th>call_minutes</th>\n",
       "    </tr>\n",
       "  </thead>\n",
       "  <tbody>\n",
       "    <tr>\n",
       "      <th>0</th>\n",
       "      <td>1000</td>\n",
       "      <td>2018-12</td>\n",
       "      <td>16</td>\n",
       "      <td>960</td>\n",
       "    </tr>\n",
       "    <tr>\n",
       "      <th>1</th>\n",
       "      <td>1001</td>\n",
       "      <td>2018-08</td>\n",
       "      <td>27</td>\n",
       "      <td>1620</td>\n",
       "    </tr>\n",
       "    <tr>\n",
       "      <th>2</th>\n",
       "      <td>1001</td>\n",
       "      <td>2018-09</td>\n",
       "      <td>49</td>\n",
       "      <td>2940</td>\n",
       "    </tr>\n",
       "    <tr>\n",
       "      <th>3</th>\n",
       "      <td>1001</td>\n",
       "      <td>2018-10</td>\n",
       "      <td>65</td>\n",
       "      <td>3900</td>\n",
       "    </tr>\n",
       "    <tr>\n",
       "      <th>4</th>\n",
       "      <td>1001</td>\n",
       "      <td>2018-11</td>\n",
       "      <td>64</td>\n",
       "      <td>3840</td>\n",
       "    </tr>\n",
       "    <tr>\n",
       "      <th>...</th>\n",
       "      <td>...</td>\n",
       "      <td>...</td>\n",
       "      <td>...</td>\n",
       "      <td>...</td>\n",
       "    </tr>\n",
       "    <tr>\n",
       "      <th>2253</th>\n",
       "      <td>1498</td>\n",
       "      <td>2018-12</td>\n",
       "      <td>39</td>\n",
       "      <td>2340</td>\n",
       "    </tr>\n",
       "    <tr>\n",
       "      <th>2254</th>\n",
       "      <td>1499</td>\n",
       "      <td>2018-09</td>\n",
       "      <td>41</td>\n",
       "      <td>2460</td>\n",
       "    </tr>\n",
       "    <tr>\n",
       "      <th>2255</th>\n",
       "      <td>1499</td>\n",
       "      <td>2018-10</td>\n",
       "      <td>53</td>\n",
       "      <td>3180</td>\n",
       "    </tr>\n",
       "    <tr>\n",
       "      <th>2256</th>\n",
       "      <td>1499</td>\n",
       "      <td>2018-11</td>\n",
       "      <td>45</td>\n",
       "      <td>2700</td>\n",
       "    </tr>\n",
       "    <tr>\n",
       "      <th>2257</th>\n",
       "      <td>1499</td>\n",
       "      <td>2018-12</td>\n",
       "      <td>65</td>\n",
       "      <td>3900</td>\n",
       "    </tr>\n",
       "  </tbody>\n",
       "</table>\n",
       "<p>2258 rows × 4 columns</p>\n",
       "</div>"
      ],
      "text/plain": [
       "      user_id    month  call_count  call_minutes\n",
       "0        1000  2018-12          16           960\n",
       "1        1001  2018-08          27          1620\n",
       "2        1001  2018-09          49          2940\n",
       "3        1001  2018-10          65          3900\n",
       "4        1001  2018-11          64          3840\n",
       "...       ...      ...         ...           ...\n",
       "2253     1498  2018-12          39          2340\n",
       "2254     1499  2018-09          41          2460\n",
       "2255     1499  2018-10          53          3180\n",
       "2256     1499  2018-11          45          2700\n",
       "2257     1499  2018-12          65          3900\n",
       "\n",
       "[2258 rows x 4 columns]"
      ]
     },
     "execution_count": 18,
     "metadata": {},
     "output_type": "execute_result"
    }
   ],
   "source": [
    "# Calcular el número de llamadas hechas por cada usuario al mes\n",
    "df_calls['month'] = df_calls['call_date'].dt.to_period('M')\n",
    "calls_per_month = df_calls.groupby(['user_id', 'month']).size().reset_index(name='call_count')\n",
    "\n",
    "# Calcular el número de minutos de llamadas hechas por cada usuario al mes\n",
    "calls_per_month['call_minutes'] = calls_per_month['call_count'] * 60\n",
    "calls_per_month"
   ]
  },
  {
   "cell_type": "code",
   "execution_count": 19,
   "metadata": {},
   "outputs": [
    {
     "data": {
      "text/html": [
       "<div>\n",
       "<style scoped>\n",
       "    .dataframe tbody tr th:only-of-type {\n",
       "        vertical-align: middle;\n",
       "    }\n",
       "\n",
       "    .dataframe tbody tr th {\n",
       "        vertical-align: top;\n",
       "    }\n",
       "\n",
       "    .dataframe thead th {\n",
       "        text-align: right;\n",
       "    }\n",
       "</style>\n",
       "<table border=\"1\" class=\"dataframe\">\n",
       "  <thead>\n",
       "    <tr style=\"text-align: right;\">\n",
       "      <th></th>\n",
       "      <th>user_id</th>\n",
       "      <th>month</th>\n",
       "      <th>messages_count</th>\n",
       "    </tr>\n",
       "  </thead>\n",
       "  <tbody>\n",
       "    <tr>\n",
       "      <th>0</th>\n",
       "      <td>1000</td>\n",
       "      <td>2018-12</td>\n",
       "      <td>11</td>\n",
       "    </tr>\n",
       "    <tr>\n",
       "      <th>1</th>\n",
       "      <td>1001</td>\n",
       "      <td>2018-08</td>\n",
       "      <td>30</td>\n",
       "    </tr>\n",
       "    <tr>\n",
       "      <th>2</th>\n",
       "      <td>1001</td>\n",
       "      <td>2018-09</td>\n",
       "      <td>44</td>\n",
       "    </tr>\n",
       "    <tr>\n",
       "      <th>3</th>\n",
       "      <td>1001</td>\n",
       "      <td>2018-10</td>\n",
       "      <td>53</td>\n",
       "    </tr>\n",
       "    <tr>\n",
       "      <th>4</th>\n",
       "      <td>1001</td>\n",
       "      <td>2018-11</td>\n",
       "      <td>36</td>\n",
       "    </tr>\n",
       "    <tr>\n",
       "      <th>...</th>\n",
       "      <td>...</td>\n",
       "      <td>...</td>\n",
       "      <td>...</td>\n",
       "    </tr>\n",
       "    <tr>\n",
       "      <th>1801</th>\n",
       "      <td>1496</td>\n",
       "      <td>2018-09</td>\n",
       "      <td>21</td>\n",
       "    </tr>\n",
       "    <tr>\n",
       "      <th>1802</th>\n",
       "      <td>1496</td>\n",
       "      <td>2018-10</td>\n",
       "      <td>18</td>\n",
       "    </tr>\n",
       "    <tr>\n",
       "      <th>1803</th>\n",
       "      <td>1496</td>\n",
       "      <td>2018-11</td>\n",
       "      <td>13</td>\n",
       "    </tr>\n",
       "    <tr>\n",
       "      <th>1804</th>\n",
       "      <td>1496</td>\n",
       "      <td>2018-12</td>\n",
       "      <td>11</td>\n",
       "    </tr>\n",
       "    <tr>\n",
       "      <th>1805</th>\n",
       "      <td>1497</td>\n",
       "      <td>2018-12</td>\n",
       "      <td>50</td>\n",
       "    </tr>\n",
       "  </tbody>\n",
       "</table>\n",
       "<p>1806 rows × 3 columns</p>\n",
       "</div>"
      ],
      "text/plain": [
       "      user_id    month  messages_count\n",
       "0        1000  2018-12              11\n",
       "1        1001  2018-08              30\n",
       "2        1001  2018-09              44\n",
       "3        1001  2018-10              53\n",
       "4        1001  2018-11              36\n",
       "...       ...      ...             ...\n",
       "1801     1496  2018-09              21\n",
       "1802     1496  2018-10              18\n",
       "1803     1496  2018-11              13\n",
       "1804     1496  2018-12              11\n",
       "1805     1497  2018-12              50\n",
       "\n",
       "[1806 rows x 3 columns]"
      ]
     },
     "execution_count": 19,
     "metadata": {},
     "output_type": "execute_result"
    }
   ],
   "source": [
    "# Calcular el número de mensajes enviados por cada usuario al mes.\n",
    "df_messages['month'] = df_messages['message_date'].dt.to_period('M')\n",
    "messages_per_month = df_messages.groupby(['user_id', 'month']).size().reset_index(name='messages_count')\n",
    "messages_per_month"
   ]
  },
  {
   "cell_type": "code",
   "execution_count": 20,
   "metadata": {},
   "outputs": [
    {
     "data": {
      "text/html": [
       "<div>\n",
       "<style scoped>\n",
       "    .dataframe tbody tr th:only-of-type {\n",
       "        vertical-align: middle;\n",
       "    }\n",
       "\n",
       "    .dataframe tbody tr th {\n",
       "        vertical-align: top;\n",
       "    }\n",
       "\n",
       "    .dataframe thead th {\n",
       "        text-align: right;\n",
       "    }\n",
       "</style>\n",
       "<table border=\"1\" class=\"dataframe\">\n",
       "  <thead>\n",
       "    <tr style=\"text-align: right;\">\n",
       "      <th></th>\n",
       "      <th>user_id</th>\n",
       "      <th>month</th>\n",
       "      <th>internet_count</th>\n",
       "      <th>total_gb_used</th>\n",
       "    </tr>\n",
       "  </thead>\n",
       "  <tbody>\n",
       "    <tr>\n",
       "      <th>0</th>\n",
       "      <td>1000</td>\n",
       "      <td>2018-12</td>\n",
       "      <td>1901.47</td>\n",
       "      <td>2.0</td>\n",
       "    </tr>\n",
       "    <tr>\n",
       "      <th>1</th>\n",
       "      <td>1001</td>\n",
       "      <td>2018-08</td>\n",
       "      <td>6919.15</td>\n",
       "      <td>7.0</td>\n",
       "    </tr>\n",
       "    <tr>\n",
       "      <th>2</th>\n",
       "      <td>1001</td>\n",
       "      <td>2018-09</td>\n",
       "      <td>13314.82</td>\n",
       "      <td>14.0</td>\n",
       "    </tr>\n",
       "    <tr>\n",
       "      <th>3</th>\n",
       "      <td>1001</td>\n",
       "      <td>2018-10</td>\n",
       "      <td>22330.49</td>\n",
       "      <td>22.0</td>\n",
       "    </tr>\n",
       "    <tr>\n",
       "      <th>4</th>\n",
       "      <td>1001</td>\n",
       "      <td>2018-11</td>\n",
       "      <td>18504.30</td>\n",
       "      <td>19.0</td>\n",
       "    </tr>\n",
       "    <tr>\n",
       "      <th>...</th>\n",
       "      <td>...</td>\n",
       "      <td>...</td>\n",
       "      <td>...</td>\n",
       "      <td>...</td>\n",
       "    </tr>\n",
       "    <tr>\n",
       "      <th>2272</th>\n",
       "      <td>1498</td>\n",
       "      <td>2018-12</td>\n",
       "      <td>23137.69</td>\n",
       "      <td>23.0</td>\n",
       "    </tr>\n",
       "    <tr>\n",
       "      <th>2273</th>\n",
       "      <td>1499</td>\n",
       "      <td>2018-09</td>\n",
       "      <td>12984.76</td>\n",
       "      <td>13.0</td>\n",
       "    </tr>\n",
       "    <tr>\n",
       "      <th>2274</th>\n",
       "      <td>1499</td>\n",
       "      <td>2018-10</td>\n",
       "      <td>19492.43</td>\n",
       "      <td>20.0</td>\n",
       "    </tr>\n",
       "    <tr>\n",
       "      <th>2275</th>\n",
       "      <td>1499</td>\n",
       "      <td>2018-11</td>\n",
       "      <td>16813.83</td>\n",
       "      <td>17.0</td>\n",
       "    </tr>\n",
       "    <tr>\n",
       "      <th>2276</th>\n",
       "      <td>1499</td>\n",
       "      <td>2018-12</td>\n",
       "      <td>22059.21</td>\n",
       "      <td>22.0</td>\n",
       "    </tr>\n",
       "  </tbody>\n",
       "</table>\n",
       "<p>2277 rows × 4 columns</p>\n",
       "</div>"
      ],
      "text/plain": [
       "      user_id    month  internet_count  total_gb_used\n",
       "0        1000  2018-12         1901.47            2.0\n",
       "1        1001  2018-08         6919.15            7.0\n",
       "2        1001  2018-09        13314.82           14.0\n",
       "3        1001  2018-10        22330.49           22.0\n",
       "4        1001  2018-11        18504.30           19.0\n",
       "...       ...      ...             ...            ...\n",
       "2272     1498  2018-12        23137.69           23.0\n",
       "2273     1499  2018-09        12984.76           13.0\n",
       "2274     1499  2018-10        19492.43           20.0\n",
       "2275     1499  2018-11        16813.83           17.0\n",
       "2276     1499  2018-12        22059.21           22.0\n",
       "\n",
       "[2277 rows x 4 columns]"
      ]
     },
     "execution_count": 20,
     "metadata": {},
     "output_type": "execute_result"
    }
   ],
   "source": [
    "# Calcular el volumen del tráfico de Internet usado por cada usuario al mes.\n",
    "df_internet['month'] = df_internet['session_date'].dt.to_period('M')\n",
    "internet_per_mont = df_internet.groupby(['user_id', 'month'])['mb_used'].sum().reset_index(name='internet_count')\n",
    "internet_per_mont['total_gb_used'] = np.ceil(internet_per_mont['internet_count'] / 1024)\n",
    "internet_per_mont"
   ]
  },
  {
   "cell_type": "code",
   "execution_count": 21,
   "metadata": {},
   "outputs": [
    {
     "data": {
      "text/html": [
       "<div>\n",
       "<style scoped>\n",
       "    .dataframe tbody tr th:only-of-type {\n",
       "        vertical-align: middle;\n",
       "    }\n",
       "\n",
       "    .dataframe tbody tr th {\n",
       "        vertical-align: top;\n",
       "    }\n",
       "\n",
       "    .dataframe thead th {\n",
       "        text-align: right;\n",
       "    }\n",
       "</style>\n",
       "<table border=\"1\" class=\"dataframe\">\n",
       "  <thead>\n",
       "    <tr style=\"text-align: right;\">\n",
       "      <th></th>\n",
       "      <th>user_id</th>\n",
       "      <th>month</th>\n",
       "      <th>call_count</th>\n",
       "      <th>call_minutes</th>\n",
       "      <th>messages_count</th>\n",
       "      <th>internet_count</th>\n",
       "      <th>total_gb_used</th>\n",
       "      <th>plan</th>\n",
       "    </tr>\n",
       "  </thead>\n",
       "  <tbody>\n",
       "    <tr>\n",
       "      <th>0</th>\n",
       "      <td>1000</td>\n",
       "      <td>2018-12</td>\n",
       "      <td>16</td>\n",
       "      <td>960</td>\n",
       "      <td>11</td>\n",
       "      <td>1901.47</td>\n",
       "      <td>2.0</td>\n",
       "      <td>ultimate</td>\n",
       "    </tr>\n",
       "    <tr>\n",
       "      <th>1</th>\n",
       "      <td>1001</td>\n",
       "      <td>2018-08</td>\n",
       "      <td>27</td>\n",
       "      <td>1620</td>\n",
       "      <td>30</td>\n",
       "      <td>6919.15</td>\n",
       "      <td>7.0</td>\n",
       "      <td>surf</td>\n",
       "    </tr>\n",
       "    <tr>\n",
       "      <th>2</th>\n",
       "      <td>1001</td>\n",
       "      <td>2018-09</td>\n",
       "      <td>49</td>\n",
       "      <td>2940</td>\n",
       "      <td>44</td>\n",
       "      <td>13314.82</td>\n",
       "      <td>14.0</td>\n",
       "      <td>surf</td>\n",
       "    </tr>\n",
       "    <tr>\n",
       "      <th>3</th>\n",
       "      <td>1001</td>\n",
       "      <td>2018-10</td>\n",
       "      <td>65</td>\n",
       "      <td>3900</td>\n",
       "      <td>53</td>\n",
       "      <td>22330.49</td>\n",
       "      <td>22.0</td>\n",
       "      <td>surf</td>\n",
       "    </tr>\n",
       "    <tr>\n",
       "      <th>4</th>\n",
       "      <td>1001</td>\n",
       "      <td>2018-11</td>\n",
       "      <td>64</td>\n",
       "      <td>3840</td>\n",
       "      <td>36</td>\n",
       "      <td>18504.30</td>\n",
       "      <td>19.0</td>\n",
       "      <td>surf</td>\n",
       "    </tr>\n",
       "    <tr>\n",
       "      <th>...</th>\n",
       "      <td>...</td>\n",
       "      <td>...</td>\n",
       "      <td>...</td>\n",
       "      <td>...</td>\n",
       "      <td>...</td>\n",
       "      <td>...</td>\n",
       "      <td>...</td>\n",
       "      <td>...</td>\n",
       "    </tr>\n",
       "    <tr>\n",
       "      <th>1754</th>\n",
       "      <td>1496</td>\n",
       "      <td>2018-09</td>\n",
       "      <td>52</td>\n",
       "      <td>3120</td>\n",
       "      <td>21</td>\n",
       "      <td>16389.27</td>\n",
       "      <td>17.0</td>\n",
       "      <td>surf</td>\n",
       "    </tr>\n",
       "    <tr>\n",
       "      <th>1755</th>\n",
       "      <td>1496</td>\n",
       "      <td>2018-10</td>\n",
       "      <td>46</td>\n",
       "      <td>2760</td>\n",
       "      <td>18</td>\n",
       "      <td>14287.36</td>\n",
       "      <td>14.0</td>\n",
       "      <td>surf</td>\n",
       "    </tr>\n",
       "    <tr>\n",
       "      <th>1756</th>\n",
       "      <td>1496</td>\n",
       "      <td>2018-11</td>\n",
       "      <td>39</td>\n",
       "      <td>2340</td>\n",
       "      <td>13</td>\n",
       "      <td>8547.36</td>\n",
       "      <td>9.0</td>\n",
       "      <td>surf</td>\n",
       "    </tr>\n",
       "    <tr>\n",
       "      <th>1757</th>\n",
       "      <td>1496</td>\n",
       "      <td>2018-12</td>\n",
       "      <td>40</td>\n",
       "      <td>2400</td>\n",
       "      <td>11</td>\n",
       "      <td>16438.99</td>\n",
       "      <td>17.0</td>\n",
       "      <td>surf</td>\n",
       "    </tr>\n",
       "    <tr>\n",
       "      <th>1758</th>\n",
       "      <td>1497</td>\n",
       "      <td>2018-12</td>\n",
       "      <td>54</td>\n",
       "      <td>3240</td>\n",
       "      <td>50</td>\n",
       "      <td>11106.55</td>\n",
       "      <td>11.0</td>\n",
       "      <td>ultimate</td>\n",
       "    </tr>\n",
       "  </tbody>\n",
       "</table>\n",
       "<p>1759 rows × 8 columns</p>\n",
       "</div>"
      ],
      "text/plain": [
       "      user_id    month  call_count  call_minutes  messages_count  \\\n",
       "0        1000  2018-12          16           960              11   \n",
       "1        1001  2018-08          27          1620              30   \n",
       "2        1001  2018-09          49          2940              44   \n",
       "3        1001  2018-10          65          3900              53   \n",
       "4        1001  2018-11          64          3840              36   \n",
       "...       ...      ...         ...           ...             ...   \n",
       "1754     1496  2018-09          52          3120              21   \n",
       "1755     1496  2018-10          46          2760              18   \n",
       "1756     1496  2018-11          39          2340              13   \n",
       "1757     1496  2018-12          40          2400              11   \n",
       "1758     1497  2018-12          54          3240              50   \n",
       "\n",
       "      internet_count  total_gb_used      plan  \n",
       "0            1901.47            2.0  ultimate  \n",
       "1            6919.15            7.0      surf  \n",
       "2           13314.82           14.0      surf  \n",
       "3           22330.49           22.0      surf  \n",
       "4           18504.30           19.0      surf  \n",
       "...              ...            ...       ...  \n",
       "1754        16389.27           17.0      surf  \n",
       "1755        14287.36           14.0      surf  \n",
       "1756         8547.36            9.0      surf  \n",
       "1757        16438.99           17.0      surf  \n",
       "1758        11106.55           11.0  ultimate  \n",
       "\n",
       "[1759 rows x 8 columns]"
      ]
     },
     "execution_count": 21,
     "metadata": {},
     "output_type": "execute_result"
    }
   ],
   "source": [
    "# Hacer un merge para incluir todos los datos extraídos anteriormente\n",
    "calls_messages_merge = pd.merge(calls_per_month, messages_per_month, on=['user_id', 'month'], how='inner')\n",
    "total_used = pd.merge(calls_messages_merge, internet_per_mont, on=['user_id', 'month'], how='inner')\n",
    "total_used_per_user = pd.merge(total_used, df_users[['user_id', 'plan']], on=['user_id'], how='left')\n",
    "total_used_per_user"
   ]
  },
  {
   "cell_type": "markdown",
   "metadata": {},
   "source": [
    "En esta parte se realizaron procedimientos para lograr obtener un df enriquecido con datos relevantes, primero separamos los datos por el número de mes, para después pasar a obtener cuanto consumió cada usuario de cada plan, una ves teniendo esta información útil, con la ayuda de merge unimos estos datos en un solo df, también de la tabla `users` obtuvimos el plan de cada usuario en base a la columna `user_id`, una vez teniendo este df muy completo, pasaremos a obtener el consumo mensual de cada usuario en base a lo que gasto de mas que no estaba incluido en su plan."
   ]
  },
  {
   "cell_type": "code",
   "execution_count": 22,
   "metadata": {},
   "outputs": [],
   "source": [
    "def income_monthly_per_user(call_minutes, messages_count, total_gb_used, plan):\n",
    "    # Definir los planes\n",
    "    plans = {\n",
    "        'surf':{\n",
    "            'monthly_cost': 20,\n",
    "            'included_calls': 500,\n",
    "            'included_sms': 50,\n",
    "            'included_gb_internet': 15,\n",
    "            'extra_minute': 0.03,\n",
    "            'extra_sms': 0.03,\n",
    "            'extra_gb': 10 \n",
    "        },\n",
    "        'ultimate':{\n",
    "            'monthly_cost': 70,\n",
    "            'included_calls': 3000,\n",
    "            'included_sms': 1000,\n",
    "            'included_gb_internet': 30,\n",
    "            'extra_minute': 0.01,\n",
    "            'extra_sms': 0.01,\n",
    "            'extra_gb': 7\n",
    "        }    \n",
    "    }\n",
    "\n",
    "    # Obtener los planes\n",
    "    plan_details = plans[plan]\n",
    "\n",
    "    # Obtener el aumento del coste de llamadas\n",
    "    extra_call_cost = 0\n",
    "    if call_minutes > plan_details['included_calls']:\n",
    "        extra_call_cost = (call_minutes - plan_details['included_calls']) * plan_details['extra_minute']\n",
    "    \n",
    "    # Obtener el aumento del coste de mensajes\n",
    "    extra_messages_cost = 0\n",
    "    if messages_count > plan_details['included_sms']:\n",
    "        extra_messages_cost = (messages_count - plan_details['included_sms']) * plan_details['extra_sms']\n",
    "    \n",
    "    # Obtener el aumento del coste de internet\n",
    "    extra_gb_cost = 0\n",
    "    if total_gb_used > plan_details['included_gb_internet']:\n",
    "        extra_gb_cost = (total_gb_used - plan_details['included_gb_internet']) * plan_details['extra_gb']\n",
    "    \n",
    "    total_income = plan_details['monthly_cost'] + extra_call_cost + extra_messages_cost + extra_gb_cost\n",
    "\n",
    "    return total_income\n"
   ]
  },
  {
   "cell_type": "code",
   "execution_count": 23,
   "metadata": {},
   "outputs": [],
   "source": [
    "# Aplicar la funcion\n",
    "total_used_per_user['total_income_monthly'] = total_used_per_user.apply(lambda row: income_monthly_per_user(row['call_minutes'], row['messages_count'], row['total_gb_used'], row['plan']), axis=1)"
   ]
  },
  {
   "cell_type": "code",
   "execution_count": 24,
   "metadata": {},
   "outputs": [
    {
     "data": {
      "text/html": [
       "<div>\n",
       "<style scoped>\n",
       "    .dataframe tbody tr th:only-of-type {\n",
       "        vertical-align: middle;\n",
       "    }\n",
       "\n",
       "    .dataframe tbody tr th {\n",
       "        vertical-align: top;\n",
       "    }\n",
       "\n",
       "    .dataframe thead th {\n",
       "        text-align: right;\n",
       "    }\n",
       "</style>\n",
       "<table border=\"1\" class=\"dataframe\">\n",
       "  <thead>\n",
       "    <tr style=\"text-align: right;\">\n",
       "      <th></th>\n",
       "      <th>user_id</th>\n",
       "      <th>month</th>\n",
       "      <th>call_count</th>\n",
       "      <th>call_minutes</th>\n",
       "      <th>messages_count</th>\n",
       "      <th>internet_count</th>\n",
       "      <th>total_gb_used</th>\n",
       "      <th>plan</th>\n",
       "      <th>total_income_monthly</th>\n",
       "    </tr>\n",
       "  </thead>\n",
       "  <tbody>\n",
       "    <tr>\n",
       "      <th>0</th>\n",
       "      <td>1000</td>\n",
       "      <td>2018-12</td>\n",
       "      <td>16</td>\n",
       "      <td>960</td>\n",
       "      <td>11</td>\n",
       "      <td>1901.47</td>\n",
       "      <td>2.0</td>\n",
       "      <td>ultimate</td>\n",
       "      <td>70.00</td>\n",
       "    </tr>\n",
       "    <tr>\n",
       "      <th>1</th>\n",
       "      <td>1001</td>\n",
       "      <td>2018-08</td>\n",
       "      <td>27</td>\n",
       "      <td>1620</td>\n",
       "      <td>30</td>\n",
       "      <td>6919.15</td>\n",
       "      <td>7.0</td>\n",
       "      <td>surf</td>\n",
       "      <td>53.60</td>\n",
       "    </tr>\n",
       "    <tr>\n",
       "      <th>2</th>\n",
       "      <td>1001</td>\n",
       "      <td>2018-09</td>\n",
       "      <td>49</td>\n",
       "      <td>2940</td>\n",
       "      <td>44</td>\n",
       "      <td>13314.82</td>\n",
       "      <td>14.0</td>\n",
       "      <td>surf</td>\n",
       "      <td>93.20</td>\n",
       "    </tr>\n",
       "    <tr>\n",
       "      <th>3</th>\n",
       "      <td>1001</td>\n",
       "      <td>2018-10</td>\n",
       "      <td>65</td>\n",
       "      <td>3900</td>\n",
       "      <td>53</td>\n",
       "      <td>22330.49</td>\n",
       "      <td>22.0</td>\n",
       "      <td>surf</td>\n",
       "      <td>192.09</td>\n",
       "    </tr>\n",
       "    <tr>\n",
       "      <th>4</th>\n",
       "      <td>1001</td>\n",
       "      <td>2018-11</td>\n",
       "      <td>64</td>\n",
       "      <td>3840</td>\n",
       "      <td>36</td>\n",
       "      <td>18504.30</td>\n",
       "      <td>19.0</td>\n",
       "      <td>surf</td>\n",
       "      <td>160.20</td>\n",
       "    </tr>\n",
       "    <tr>\n",
       "      <th>...</th>\n",
       "      <td>...</td>\n",
       "      <td>...</td>\n",
       "      <td>...</td>\n",
       "      <td>...</td>\n",
       "      <td>...</td>\n",
       "      <td>...</td>\n",
       "      <td>...</td>\n",
       "      <td>...</td>\n",
       "      <td>...</td>\n",
       "    </tr>\n",
       "    <tr>\n",
       "      <th>1754</th>\n",
       "      <td>1496</td>\n",
       "      <td>2018-09</td>\n",
       "      <td>52</td>\n",
       "      <td>3120</td>\n",
       "      <td>21</td>\n",
       "      <td>16389.27</td>\n",
       "      <td>17.0</td>\n",
       "      <td>surf</td>\n",
       "      <td>118.60</td>\n",
       "    </tr>\n",
       "    <tr>\n",
       "      <th>1755</th>\n",
       "      <td>1496</td>\n",
       "      <td>2018-10</td>\n",
       "      <td>46</td>\n",
       "      <td>2760</td>\n",
       "      <td>18</td>\n",
       "      <td>14287.36</td>\n",
       "      <td>14.0</td>\n",
       "      <td>surf</td>\n",
       "      <td>87.80</td>\n",
       "    </tr>\n",
       "    <tr>\n",
       "      <th>1756</th>\n",
       "      <td>1496</td>\n",
       "      <td>2018-11</td>\n",
       "      <td>39</td>\n",
       "      <td>2340</td>\n",
       "      <td>13</td>\n",
       "      <td>8547.36</td>\n",
       "      <td>9.0</td>\n",
       "      <td>surf</td>\n",
       "      <td>75.20</td>\n",
       "    </tr>\n",
       "    <tr>\n",
       "      <th>1757</th>\n",
       "      <td>1496</td>\n",
       "      <td>2018-12</td>\n",
       "      <td>40</td>\n",
       "      <td>2400</td>\n",
       "      <td>11</td>\n",
       "      <td>16438.99</td>\n",
       "      <td>17.0</td>\n",
       "      <td>surf</td>\n",
       "      <td>97.00</td>\n",
       "    </tr>\n",
       "    <tr>\n",
       "      <th>1758</th>\n",
       "      <td>1497</td>\n",
       "      <td>2018-12</td>\n",
       "      <td>54</td>\n",
       "      <td>3240</td>\n",
       "      <td>50</td>\n",
       "      <td>11106.55</td>\n",
       "      <td>11.0</td>\n",
       "      <td>ultimate</td>\n",
       "      <td>72.40</td>\n",
       "    </tr>\n",
       "  </tbody>\n",
       "</table>\n",
       "<p>1759 rows × 9 columns</p>\n",
       "</div>"
      ],
      "text/plain": [
       "      user_id    month  call_count  call_minutes  messages_count  \\\n",
       "0        1000  2018-12          16           960              11   \n",
       "1        1001  2018-08          27          1620              30   \n",
       "2        1001  2018-09          49          2940              44   \n",
       "3        1001  2018-10          65          3900              53   \n",
       "4        1001  2018-11          64          3840              36   \n",
       "...       ...      ...         ...           ...             ...   \n",
       "1754     1496  2018-09          52          3120              21   \n",
       "1755     1496  2018-10          46          2760              18   \n",
       "1756     1496  2018-11          39          2340              13   \n",
       "1757     1496  2018-12          40          2400              11   \n",
       "1758     1497  2018-12          54          3240              50   \n",
       "\n",
       "      internet_count  total_gb_used      plan  total_income_monthly  \n",
       "0            1901.47            2.0  ultimate                 70.00  \n",
       "1            6919.15            7.0      surf                 53.60  \n",
       "2           13314.82           14.0      surf                 93.20  \n",
       "3           22330.49           22.0      surf                192.09  \n",
       "4           18504.30           19.0      surf                160.20  \n",
       "...              ...            ...       ...                   ...  \n",
       "1754        16389.27           17.0      surf                118.60  \n",
       "1755        14287.36           14.0      surf                 87.80  \n",
       "1756         8547.36            9.0      surf                 75.20  \n",
       "1757        16438.99           17.0      surf                 97.00  \n",
       "1758        11106.55           11.0  ultimate                 72.40  \n",
       "\n",
       "[1759 rows x 9 columns]"
      ]
     },
     "execution_count": 24,
     "metadata": {},
     "output_type": "execute_result"
    }
   ],
   "source": [
    "# Impresión del df con el importe gastado por usuario de megaline\n",
    "total_used_per_user"
   ]
  },
  {
   "cell_type": "markdown",
   "metadata": {},
   "source": [
    "Después de tener nuestro df completo, ahora tenemos que sacar el consumo extra de cada usuario, para esto mediante una función, se consiguió esta información, al finalizar con la ayuda de applye, se aplicó esta función al df correspondiente, una vez realizado esto, tenemos un nuevo df con el `total_income_monhtly`, ahora podemos empezar a hacer visualizaciones importantes en base a este df."
   ]
  },
  {
   "cell_type": "markdown",
   "metadata": {},
   "source": [
    "### Consumo de usuario en llamadas por cada plan <a id='calls'></a>"
   ]
  },
  {
   "cell_type": "code",
   "execution_count": 25,
   "metadata": {},
   "outputs": [
    {
     "name": "stderr",
     "output_type": "stream",
     "text": [
      "C:\\Users\\Albert\\AppData\\Roaming\\Python\\Python311\\site-packages\\seaborn\\_oldcore.py:1498: FutureWarning: is_categorical_dtype is deprecated and will be removed in a future version. Use isinstance(dtype, CategoricalDtype) instead\n",
      "  if pd.api.types.is_categorical_dtype(vector):\n",
      "C:\\Users\\Albert\\AppData\\Roaming\\Python\\Python311\\site-packages\\seaborn\\_oldcore.py:1498: FutureWarning: is_categorical_dtype is deprecated and will be removed in a future version. Use isinstance(dtype, CategoricalDtype) instead\n",
      "  if pd.api.types.is_categorical_dtype(vector):\n",
      "C:\\Users\\Albert\\AppData\\Roaming\\Python\\Python311\\site-packages\\seaborn\\_oldcore.py:1498: FutureWarning: is_categorical_dtype is deprecated and will be removed in a future version. Use isinstance(dtype, CategoricalDtype) instead\n",
      "  if pd.api.types.is_categorical_dtype(vector):\n",
      "C:\\Users\\Albert\\AppData\\Roaming\\Python\\Python311\\site-packages\\seaborn\\_oldcore.py:1498: FutureWarning: is_categorical_dtype is deprecated and will be removed in a future version. Use isinstance(dtype, CategoricalDtype) instead\n",
      "  if pd.api.types.is_categorical_dtype(vector):\n"
     ]
    },
    {
     "data": {
      "image/png": "[encoded data removed]",
      "text/plain": [
       "<Figure size 1000x1200 with 1 Axes>"
      ]
     },
     "metadata": {},
     "output_type": "display_data"
    }
   ],
   "source": [
    "# Comparar la duración promedio de llamadas por cada plan y por cada mes. Trazar un gráfico de barras para visualizarla.\n",
    "\n",
    "average_call_duration = total_used_per_user.groupby(['month', 'plan'])['call_minutes'].mean().reset_index(name='average_call_minutes')\n",
    "average_call_duration['average_call_minutes'] = average_call_duration['average_call_minutes'].round(2)\n",
    "\n",
    "# Configurar el estilo de seaborn\n",
    "sns.set(style='whitegrid')\n",
    "\n",
    "# Crear el gráfico de barras\n",
    "plt.figure(figsize=(10, 12))\n",
    "barplot = sns.barplot(x='month', y='average_call_minutes', hue='plan', data=average_call_duration)\n",
    "\n",
    "# Agregar etiquetas y titulo\n",
    "plt.xlabel('Mes')\n",
    "plt.ylabel('Average_call_minutes')\n",
    "plt.title('Gráfico de barras del promedio de la duración de llamadas para cada plan por mes')\n",
    "plt.xticks(rotation=45)\n",
    "plt.legend(title='plan')\n",
    "\n",
    "plt.show()\n"
   ]
  },
  {
   "cell_type": "markdown",
   "metadata": {},
   "source": [
    "Podemos concluir, en base a este gráfico de barras, el promedio de duración de llamadas por cada mes de cada plan, de los meses de mayo a diciembre, se concluye que se ve una actividad estable de las llamadas, algunos meses surf tiene un promedio mas alto de llamadas y otras veces ultimate, en febrero ultimate registró un alto número de llamadas, también vemos que diciembre prácticamente los dos planes fueron ocupados de la misma manera, seguro, debido a las fiestas decembrinas los usuarios, estuvieron muy activos en sus teléfonos. "
   ]
  },
  {
   "cell_type": "code",
   "execution_count": 26,
   "metadata": {},
   "outputs": [
    {
     "name": "stderr",
     "output_type": "stream",
     "text": [
      "C:\\Users\\Albert\\AppData\\Roaming\\Python\\Python311\\site-packages\\seaborn\\_oldcore.py:1498: FutureWarning: is_categorical_dtype is deprecated and will be removed in a future version. Use isinstance(dtype, CategoricalDtype) instead\n",
      "  if pd.api.types.is_categorical_dtype(vector):\n",
      "C:\\Users\\Albert\\AppData\\Roaming\\Python\\Python311\\site-packages\\seaborn\\_oldcore.py:1498: FutureWarning: is_categorical_dtype is deprecated and will be removed in a future version. Use isinstance(dtype, CategoricalDtype) instead\n",
      "  if pd.api.types.is_categorical_dtype(vector):\n",
      "C:\\Users\\Albert\\AppData\\Roaming\\Python\\Python311\\site-packages\\seaborn\\_oldcore.py:1498: FutureWarning: is_categorical_dtype is deprecated and will be removed in a future version. Use isinstance(dtype, CategoricalDtype) instead\n",
      "  if pd.api.types.is_categorical_dtype(vector):\n",
      "C:\\Users\\Albert\\AppData\\Roaming\\Python\\Python311\\site-packages\\seaborn\\_oldcore.py:1498: FutureWarning: is_categorical_dtype is deprecated and will be removed in a future version. Use isinstance(dtype, CategoricalDtype) instead\n",
      "  if pd.api.types.is_categorical_dtype(vector):\n",
      "C:\\Users\\Albert\\AppData\\Roaming\\Python\\Python311\\site-packages\\seaborn\\_oldcore.py:1119: FutureWarning: use_inf_as_na option is deprecated and will be removed in a future version. Convert inf values to NaN before operating instead.\n",
      "  with pd.option_context('mode.use_inf_as_na', True):\n"
     ]
    },
    {
     "data": {
      "image/png": "[encoded data removed]",
      "text/plain": [
       "<Figure size 1000x1200 with 1 Axes>"
      ]
     },
     "metadata": {},
     "output_type": "display_data"
    }
   ],
   "source": [
    "# Comparar el número de minutos mensuales que necesitan los usuarios de cada plan. Trazar un histograma.\n",
    "\n",
    "# Configurar el estilo de seaborn\n",
    "sns.set(style='whitegrid')\n",
    "\n",
    "# Crear el histograma\n",
    "plt.figure(figsize=(10, 12))\n",
    "hisplot = sns.histplot(data=total_used_per_user, x='call_minutes', hue='plan', multiple='stack', bins=40, kde=True)\n",
    "\n",
    "# Agregar etiquetas y título\n",
    "plt.xlabel('Mes')\n",
    "plt.ylabel('Número de usuarios')\n",
    "plt.title('Histograma de minutos mensuales que necesitan los usuarios para cada plan')\n",
    "plt.legend(title='Plan', loc='upper right', labels=['surf', 'ultimate'])\n",
    "plt.show()\n"
   ]
  },
  {
   "cell_type": "markdown",
   "metadata": {},
   "source": [
    "Contrario a la tendencia que vimos en el promedio de consumo por mes de cada plan, aquí vemos otra perspectiva, en todos los bins del histograma vemos, que ultimate es donde mas domina, es decir los usuarios de ultimate ocupan mas minutos, posiblemente esto pasa, porque hay mas usuarios con el plan surf y a la hora de sacar el promedio sube, mas adelante veremos a detalle los consumos de cada plan. "
   ]
  },
  {
   "cell_type": "code",
   "execution_count": 27,
   "metadata": {},
   "outputs": [
    {
     "data": {
      "text/html": [
       "<div>\n",
       "<style scoped>\n",
       "    .dataframe tbody tr th:only-of-type {\n",
       "        vertical-align: middle;\n",
       "    }\n",
       "\n",
       "    .dataframe tbody tr th {\n",
       "        vertical-align: top;\n",
       "    }\n",
       "\n",
       "    .dataframe thead th {\n",
       "        text-align: right;\n",
       "    }\n",
       "</style>\n",
       "<table border=\"1\" class=\"dataframe\">\n",
       "  <thead>\n",
       "    <tr style=\"text-align: right;\">\n",
       "      <th></th>\n",
       "      <th>Plan</th>\n",
       "      <th>Media</th>\n",
       "      <th>Varianza</th>\n",
       "    </tr>\n",
       "  </thead>\n",
       "  <tbody>\n",
       "    <tr>\n",
       "      <th>0</th>\n",
       "      <td>surf</td>\n",
       "      <td>3731.796610</td>\n",
       "      <td>3.691818e+06</td>\n",
       "    </tr>\n",
       "    <tr>\n",
       "      <th>1</th>\n",
       "      <td>ultimate</td>\n",
       "      <td>3737.202073</td>\n",
       "      <td>4.276690e+06</td>\n",
       "    </tr>\n",
       "  </tbody>\n",
       "</table>\n",
       "</div>"
      ],
      "text/plain": [
       "       Plan        Media      Varianza\n",
       "0      surf  3731.796610  3.691818e+06\n",
       "1  ultimate  3737.202073  4.276690e+06"
      ]
     },
     "execution_count": 27,
     "metadata": {},
     "output_type": "execute_result"
    }
   ],
   "source": [
    "# Obtención de la media y varianza de la columna `call_minutes` en surf y ultimate\n",
    "mean_variance_by_plan = total_used_per_user.groupby('plan')['call_minutes'].agg(['mean', 'var']).reset_index()\n",
    "mean_variance_by_plan.columns =['Plan', 'Media', 'Varianza']\n",
    "mean_variance_by_plan"
   ]
  },
  {
   "cell_type": "markdown",
   "metadata": {},
   "source": [
    "- Media: La media de la duración de las llamadas es bastante similar para ambos planes, lo que sugiere que, en promedio, los usuarios de ambos planes realizan una cantidad similar de llamadas.\n",
    "\n",
    "- Varianza: La varianza es un poco más alta para el plan ultimate en comparación con el plan surf. Una mayor varianza indica que hay una mayor dispersión en la duración de las llamadas entre los usuarios del plan ultimate, es decir, algunos usuarios realizan muchas más llamadas que otros."
   ]
  },
  {
   "cell_type": "code",
   "execution_count": 28,
   "metadata": {},
   "outputs": [
    {
     "name": "stderr",
     "output_type": "stream",
     "text": [
      "C:\\Users\\Albert\\AppData\\Roaming\\Python\\Python311\\site-packages\\seaborn\\_oldcore.py:1498: FutureWarning: is_categorical_dtype is deprecated and will be removed in a future version. Use isinstance(dtype, CategoricalDtype) instead\n",
      "  if pd.api.types.is_categorical_dtype(vector):\n",
      "C:\\Users\\Albert\\AppData\\Roaming\\Python\\Python311\\site-packages\\seaborn\\_oldcore.py:1498: FutureWarning: is_categorical_dtype is deprecated and will be removed in a future version. Use isinstance(dtype, CategoricalDtype) instead\n",
      "  if pd.api.types.is_categorical_dtype(vector):\n",
      "C:\\Users\\Albert\\AppData\\Roaming\\Python\\Python311\\site-packages\\seaborn\\_oldcore.py:1498: FutureWarning: is_categorical_dtype is deprecated and will be removed in a future version. Use isinstance(dtype, CategoricalDtype) instead\n",
      "  if pd.api.types.is_categorical_dtype(vector):\n"
     ]
    },
    {
     "data": {
      "image/png": "[encoded data removed]",
      "text/plain": [
       "<Figure size 1000x1200 with 1 Axes>"
      ]
     },
     "metadata": {},
     "output_type": "display_data"
    }
   ],
   "source": [
    "# Trazar un diagrama de caja para visualizar la distribución de la duración mensual de llamadas\n",
    "\n",
    "# Creación del boxplot\n",
    "sns.set(style='whitegrid')\n",
    "plt.figure(figsize=(10, 12))\n",
    "boxplot = sns.boxplot(x='plan', y='call_minutes', data=total_used_per_user)\n",
    "\n",
    "# Definir etiquetas\n",
    "plt.xlabel('Plan')\n",
    "plt.ylabel('Número de minutos')\n",
    "plt.title('Diagrama de caja para visualizar la distribución de la duración de llamadas mensuales por plan')\n",
    "\n",
    "plt.show()"
   ]
  },
  {
   "cell_type": "markdown",
   "metadata": {},
   "source": [
    "En este diagrama de caja, notamos que como habíamos concluido antes, la media se encuentra casi a la par en ambos planes, lo que refleja que ambos usuarios de estos planes consumen la misma cantidad de minutos, eso si, cabe destacar, que tanto en surf como en ultimate hay usuarios que consumen muchos mas minutos, y en especial surf, hay un muy reducido grupo con consumos muy altos de minutos en llamadas."
   ]
  },
  {
   "cell_type": "markdown",
   "metadata": {},
   "source": [
    "### Consumo de usuario en mensajes por cada plan <a id='messages'></a>"
   ]
  },
  {
   "cell_type": "code",
   "execution_count": 29,
   "metadata": {},
   "outputs": [
    {
     "name": "stderr",
     "output_type": "stream",
     "text": [
      "C:\\Users\\Albert\\AppData\\Roaming\\Python\\Python311\\site-packages\\seaborn\\_oldcore.py:1498: FutureWarning: is_categorical_dtype is deprecated and will be removed in a future version. Use isinstance(dtype, CategoricalDtype) instead\n",
      "  if pd.api.types.is_categorical_dtype(vector):\n",
      "C:\\Users\\Albert\\AppData\\Roaming\\Python\\Python311\\site-packages\\seaborn\\_oldcore.py:1498: FutureWarning: is_categorical_dtype is deprecated and will be removed in a future version. Use isinstance(dtype, CategoricalDtype) instead\n",
      "  if pd.api.types.is_categorical_dtype(vector):\n",
      "C:\\Users\\Albert\\AppData\\Roaming\\Python\\Python311\\site-packages\\seaborn\\_oldcore.py:1498: FutureWarning: is_categorical_dtype is deprecated and will be removed in a future version. Use isinstance(dtype, CategoricalDtype) instead\n",
      "  if pd.api.types.is_categorical_dtype(vector):\n",
      "C:\\Users\\Albert\\AppData\\Roaming\\Python\\Python311\\site-packages\\seaborn\\_oldcore.py:1498: FutureWarning: is_categorical_dtype is deprecated and will be removed in a future version. Use isinstance(dtype, CategoricalDtype) instead\n",
      "  if pd.api.types.is_categorical_dtype(vector):\n"
     ]
    },
    {
     "data": {
      "image/png": "[encoded data removed]",
      "text/plain": [
       "<Figure size 1000x1200 with 1 Axes>"
      ]
     },
     "metadata": {},
     "output_type": "display_data"
    }
   ],
   "source": [
    "# Consumo de mensajes enviados por usuario y plan por cada mes\n",
    "messages_used_by_plan = total_used_per_user.groupby(['month', 'plan'])['messages_count'].sum().reset_index()\n",
    "\n",
    "# Gráfico de barras de la variable `messages_used_by_plan`\n",
    "\n",
    "sns.set(style='whitegrid')\n",
    "plt.figure(figsize=(10, 12))\n",
    "barplot = sns.barplot(x='month', y='messages_count', hue='plan', data=messages_used_by_plan)\n",
    "\n",
    "# Creación de etiquetas\n",
    "plt.xlabel('Mes')\n",
    "plt.ylabel('Mensajes enviados')\n",
    "plt.title('Gráfico de barras de consumo de mensajes de cada usuario por plan')\n",
    "plt.xticks(rotation=45)\n",
    "plt.legend(title='Plan')\n",
    "plt.show()\n"
   ]
  },
  {
   "cell_type": "markdown",
   "metadata": {},
   "source": [
    "Se puede concluir, en base a este gráfico de barras, que los usuarios que mas mensajes de texto envían son los que tienen el plan surf, seguro una explicación habrá, y se dirá mas adelante."
   ]
  },
  {
   "cell_type": "markdown",
   "metadata": {},
   "source": [
    "### Consumo de usuario en tráfico de internet por cada plan <a id='internet'></a>"
   ]
  },
  {
   "cell_type": "code",
   "execution_count": 30,
   "metadata": {},
   "outputs": [
    {
     "name": "stderr",
     "output_type": "stream",
     "text": [
      "C:\\Users\\Albert\\AppData\\Roaming\\Python\\Python311\\site-packages\\seaborn\\_oldcore.py:1498: FutureWarning: is_categorical_dtype is deprecated and will be removed in a future version. Use isinstance(dtype, CategoricalDtype) instead\n",
      "  if pd.api.types.is_categorical_dtype(vector):\n",
      "C:\\Users\\Albert\\AppData\\Roaming\\Python\\Python311\\site-packages\\seaborn\\_oldcore.py:1498: FutureWarning: is_categorical_dtype is deprecated and will be removed in a future version. Use isinstance(dtype, CategoricalDtype) instead\n",
      "  if pd.api.types.is_categorical_dtype(vector):\n",
      "C:\\Users\\Albert\\AppData\\Roaming\\Python\\Python311\\site-packages\\seaborn\\_oldcore.py:1498: FutureWarning: is_categorical_dtype is deprecated and will be removed in a future version. Use isinstance(dtype, CategoricalDtype) instead\n",
      "  if pd.api.types.is_categorical_dtype(vector):\n",
      "C:\\Users\\Albert\\AppData\\Roaming\\Python\\Python311\\site-packages\\seaborn\\_oldcore.py:1498: FutureWarning: is_categorical_dtype is deprecated and will be removed in a future version. Use isinstance(dtype, CategoricalDtype) instead\n",
      "  if pd.api.types.is_categorical_dtype(vector):\n"
     ]
    },
    {
     "data": {
      "image/png": "[encoded data removed]",
      "text/plain": [
       "<Figure size 1000x1200 with 1 Axes>"
      ]
     },
     "metadata": {},
     "output_type": "display_data"
    }
   ],
   "source": [
    "# Consumo de tráfico de internet de los usuarios de cada plan por mes\n",
    "internet_used_by_plan = total_used_per_user.groupby(['month', 'plan'])['total_gb_used'].sum().reset_index()\n",
    "\n",
    "# Creación de gráfico de barras de consumo de internet por plan al mes\n",
    "sns.set(style='whitegrid')\n",
    "plt.figure(figsize=(10, 12))\n",
    "barplot = sns.barplot(x='month', y='total_gb_used', hue='plan', data=internet_used_by_plan)\n",
    "\n",
    "# Creación de etiquetas\n",
    "plt.xlabel('Mes')\n",
    "plt.ylabel('Internet en GB')\n",
    "plt.title('Gráfico de barras de consumo de GB de cada usuario por plan')\n",
    "plt.xticks(rotation=45)\n",
    "plt.legend(title='Plan')\n",
    "plt.show()"
   ]
  },
  {
   "cell_type": "markdown",
   "metadata": {},
   "source": [
    "De acuerdo al gráfico observado, notamos diferencias muy marcadas en el consumo de internet, los usuarios de surf son los que mas consumen, es raro porque estos usuarios de acuerdo a su paquete tienen menos Gb de internet que los del plan ultimate, mas sin embargo no saquemos conclusiones, y sigamos estudiando mas al respecto."
   ]
  },
  {
   "cell_type": "markdown",
   "metadata": {},
   "source": [
    "### Ingreso total mensual de cada plan de la empresa Megaline<a id='income'></a>"
   ]
  },
  {
   "cell_type": "code",
   "execution_count": 31,
   "metadata": {},
   "outputs": [
    {
     "name": "stderr",
     "output_type": "stream",
     "text": [
      "C:\\Users\\Albert\\AppData\\Roaming\\Python\\Python311\\site-packages\\seaborn\\_oldcore.py:1498: FutureWarning: is_categorical_dtype is deprecated and will be removed in a future version. Use isinstance(dtype, CategoricalDtype) instead\n",
      "  if pd.api.types.is_categorical_dtype(vector):\n",
      "C:\\Users\\Albert\\AppData\\Roaming\\Python\\Python311\\site-packages\\seaborn\\_oldcore.py:1498: FutureWarning: is_categorical_dtype is deprecated and will be removed in a future version. Use isinstance(dtype, CategoricalDtype) instead\n",
      "  if pd.api.types.is_categorical_dtype(vector):\n",
      "C:\\Users\\Albert\\AppData\\Roaming\\Python\\Python311\\site-packages\\seaborn\\_oldcore.py:1498: FutureWarning: is_categorical_dtype is deprecated and will be removed in a future version. Use isinstance(dtype, CategoricalDtype) instead\n",
      "  if pd.api.types.is_categorical_dtype(vector):\n",
      "C:\\Users\\Albert\\AppData\\Roaming\\Python\\Python311\\site-packages\\seaborn\\_oldcore.py:1498: FutureWarning: is_categorical_dtype is deprecated and will be removed in a future version. Use isinstance(dtype, CategoricalDtype) instead\n",
      "  if pd.api.types.is_categorical_dtype(vector):\n"
     ]
    },
    {
     "data": {
      "image/png": "[encoded data removed]",
      "text/plain": [
       "<Figure size 1000x1200 with 1 Axes>"
      ]
     },
     "metadata": {},
     "output_type": "display_data"
    }
   ],
   "source": [
    "# Ingresos por mes de los planes surf y ultimate en USD\n",
    "total_income_surf_ultimate = total_used_per_user.groupby(['month', 'plan'])['total_income_monthly'].sum().reset_index()\n",
    "\n",
    "# Creación del gráfico\n",
    "sns.set(style='whitegrid')\n",
    "plt.figure(figsize=(10, 12))\n",
    "barplot = sns.barplot(x='month', y='total_income_monthly', hue='plan', data=total_income_surf_ultimate)\n",
    "\n",
    "# Definir las etiquetas\n",
    "plt.xlabel('Mes')\n",
    "plt.ylabel('Ingreso por mes de cada plan')\n",
    "plt.title('Gráfico de barras del ingreso mensual total de cada plan')\n",
    "plt.legend(title='Plan')\n",
    "plt.xticks(rotation=45)\n",
    "plt.show()\n"
   ]
  },
  {
   "cell_type": "code",
   "execution_count": 32,
   "metadata": {},
   "outputs": [
    {
     "name": "stdout",
     "output_type": "stream",
     "text": [
      "plan\n",
      "surf        339\n",
      "ultimate    161\n",
      "Name: count, dtype: int64\n"
     ]
    }
   ],
   "source": [
    "print(df_users['plan'].value_counts())"
   ]
  },
  {
   "cell_type": "markdown",
   "metadata": {},
   "source": [
    "Después de analizar a detalle los datos, gráficos y un diagrama de cajas, podemos ver que la tarifa surf es la que mas consumo tiene, tanto de llamadas, sms, gb. En cuanto al ingreso, sólo en enero el plan ultimate registró mas ganancias, los 11 meses restantes, surf fue el plan que mas ingresos generó por mucho a megaline. El mes que más ingresos tuvo megaline con surf fue en diciembre, con casi 4, 500 USD, triplicando los ingresos de ultimate. Esto nos deja ver que este plan es el que mas se acopla a los usuarios, debido a que en la tabla `users` podemos ver que de los 500 clientes utilizados para este análisis, 339 pertenecen a surf, lo cual nos deja ver que es la preferida, pasemos ahora, a responder hipótesis."
   ]
  },
  {
   "cell_type": "markdown",
   "metadata": {},
   "source": [
    "### Conclusiones de la etapa Análisis de datos <a id='conclusions'></a>"
   ]
  },
  {
   "cell_type": "markdown",
   "metadata": {},
   "source": [
    "### Conclusiones del Análisis de Datos\n",
    "\n",
    "#### Gráfico de Barras del Promedio de la Duración de Llamadas para Cada Plan por Mes\n",
    "- Los usuarios del plan \"ultimate\" tienen una mayor duración promedio de llamadas en comparación con los usuarios del plan \"surf\".\n",
    "- La duración de las llamadas aumenta a lo largo del tiempo para ambos planes.\n",
    "\n",
    "#### Histograma de Minutos Mensuales que Necesitan los Usuarios para Cada Plan\n",
    "- Los usuarios del plan \"surf\" tienden a hacer más llamadas que los del plan \"ultimate\", reflejado en una mayor frecuencia en las categorías más bajas de minutos mensuales.\n",
    "- Los usuarios del plan \"ultimate\" tienen una distribución más amplia de minutos de llamadas mensuales.\n",
    "\n",
    "#### Diagrama de Caja para Visualizar la Distribución de la Duración de Llamadas Mensuales por Plan\n",
    "- Los usuarios del plan \"ultimate\" tienen una mediana ligeramente más alta en la duración de llamadas mensuales en comparación con los usuarios del plan \"surf\".\n",
    "- Hay más valores atípicos en el plan \"ultimate\".\n",
    "\n",
    "#### Gráfico de Barras del Consumo de Mensajes de Cada Usuario por Plan\n",
    "- Los usuarios del plan \"surf\" envían más mensajes que los usuarios del plan \"ultimate\".\n",
    "- El consumo de mensajes aumenta de manera constante a lo largo del tiempo para ambos planes.\n",
    "\n",
    "#### Gráfico de Barras del Consumo de GB de Cada Usuario por Plan\n",
    "- Los usuarios del plan \"surf\" consumen más datos (GB) en comparación con los usuarios del plan \"ultimate\".\n",
    "- El consumo de datos muestra un crecimiento constante a lo largo del tiempo para ambos planes.\n",
    "\n",
    "#### Gráfico de Barras del Ingreso Mensual Total de Cada Plan\n",
    "- El ingreso mensual total de los usuarios del plan \"surf\" es significativamente mayor que el de los usuarios del plan \"ultimate\".\n",
    "- Los ingresos provenientes de los usuarios del plan \"surf\" muestran un crecimiento más acelerado comparado con los del plan \"ultimate\"."
   ]
  },
  {
   "cell_type": "markdown",
   "metadata": {},
   "source": [
    "## Etapa 4: Prueba de Hipótesis <a id='data_hypotesis'></a>"
   ]
  },
  {
   "cell_type": "code",
   "execution_count": 33,
   "metadata": {},
   "outputs": [
    {
     "name": "stdout",
     "output_type": "stream",
     "text": [
      "T-statistic: -19.05936683618712\n",
      "P-value: 9.13353967563062e-74\n",
      "Rechazamos la hipótesis nula, hay una diferencia significativa entre los ingresos promedios de ultimate y surf.\n"
     ]
    }
   ],
   "source": [
    "# La hipótesis 1 que tenemos que ver si la rechazamos o no podemos rechazarla es la siguiente:\n",
    "# El ingreso promedio de los usuarios de las tarifas Ultimate y Surf difiere\n",
    "\n",
    "ultimate_income = total_used_per_user[total_used_per_user['plan'] == 'ultimate']['total_income_monthly']\n",
    "surf_income = total_used_per_user[total_used_per_user['plan'] == 'surf']['total_income_monthly']\n",
    "\n",
    "# Prueba t de dos muestras independientes\n",
    "t_stat, p_value = st.ttest_ind(ultimate_income, surf_income)\n",
    "\n",
    "# Determinación del valor alfa\n",
    "alpha = 0.05\n",
    "\n",
    "print(f\"T-statistic: {t_stat}\")\n",
    "print(f\"P-value: {p_value}\")\n",
    "\n",
    "if p_value < alpha:\n",
    "    print(\"Rechazamos la hipótesis nula, hay una diferencia significativa entre los ingresos promedios de ultimate y surf.\")\n",
    "else:\n",
    "    print(\"No podemos rechazar la hipótesis nula, no hay una diferencia significativa entre los ingresos promedios de ultimate y surf.\")"
   ]
  },
  {
   "cell_type": "markdown",
   "metadata": {},
   "source": [
    "### Conclusión\n",
    "\n",
    "Después de realizar una prueba t de dos muestras independientes para comparar los ingresos promedios mensuales de los usuarios de los planes Ultimate y Surf, los resultados nos han proporcionado los siguientes valores:\n",
    "\n",
    "- **T-statistic**: -19.0593686318712\n",
    "- **P-value**: 9.13353967563062e-74\n",
    "\n",
    "El p-value obtenido es extremadamente pequeño, mucho menor que el valor alfa de 0.05 que hemos establecido para nuestra prueba. Esto significa que la probabilidad de observar una diferencia tan extrema como la observada en nuestros datos, bajo la suposición de que la hipótesis nula es cierta, es prácticamente nula.\n",
    "\n",
    "### Interpretación\n",
    "\n",
    "Dado que el p-value es significativamente menor que el valor alfa, rechazamos la hipótesis nula. Esto nos lleva a concluir que existe una diferencia significativa entre los ingresos promedios mensuales de los usuarios de los planes Ultimate y Surf."
   ]
  },
  {
   "cell_type": "code",
   "execution_count": 34,
   "metadata": {},
   "outputs": [
    {
     "name": "stdout",
     "output_type": "stream",
     "text": [
      "T-statistic: 1.1933740390566365\n",
      "P-value: 0.23288402962848626\n",
      "No podemos rechazar la hipótesis nula, no hay una diferencia significativa entre los ingresos promedios de NY-NJ y otras regiones.\n"
     ]
    }
   ],
   "source": [
    "# La hipótesis 2 que tenemos que ver si la rechazamos o no podemos rechazarla es la siguiente:\n",
    "# El ingreso promedio de los usuarios en el área de estados `Nueva York` y `Nueva Jersey` es diferente al de los usuarios de otras regiones. \n",
    "# Para esto vamos a tener que ocupar merge y obtener la residencia de cada usuario de la tabla `users`.\n",
    "\n",
    "total_used_per_user = pd.merge(total_used_per_user, df_users[['user_id', 'city']], on=['user_id'], how='left')\n",
    "total_used_per_user_ny_nj = total_used_per_user[total_used_per_user['city'] == 'New York-Newark-Jersey City, NY-NJ-PA MSA']['total_income_monthly']\n",
    "total_used_per_user_anyplace = total_used_per_user[total_used_per_user['city'] != 'New York-Newark-Jersey City, NY-NJ-PA MSA']['total_income_monthly']\n",
    "\n",
    "# Prueba t de dos muestras independientes\n",
    "t_stat, p_value = st.ttest_ind(total_used_per_user_ny_nj, total_used_per_user_anyplace)\n",
    "\n",
    "# Determinación del valor alpha\n",
    "alpha = 0.05\n",
    "\n",
    "# Mostrar los resultados\n",
    "print(f\"T-statistic: {t_stat}\")\n",
    "print(f\"P-value: {p_value}\")\n",
    "\n",
    "if p_value < alpha:\n",
    "    print(\"Rechazamos la hipótesis nula, hay una diferencia significativa entre los ingresos promedios de NY-NJ y otras regiones.\")\n",
    "else:\n",
    "    print(\"No podemos rechazar la hipótesis nula, no hay una diferencia significativa entre los ingresos promedios de NY-NJ y otras regiones.\")"
   ]
  },
  {
   "cell_type": "markdown",
   "metadata": {},
   "source": [
    "Después de realizar una prueba t de dos muestras independientes para comparar los ingresos promedios mensuales de los usuarios en el área de Nueva York y Nueva Jersey (NY-NJ) con los de otras regiones, obtuvimos los siguientes resultados:\n",
    "\n",
    "- **T-statistic**: 1.1933740390566365\n",
    "- **P-value**: 0.23288402962848626\n",
    "\n",
    "El p-value obtenido es 0.23288402962848626, que es mayor que el valor alfa de 0.05. Esto indica que no hay suficiente evidencia para rechazar la hipótesis nula.\n",
    "\n",
    "### Interpretación\n",
    "Dado que el p-value es mayor que el valor alfa, no podemos rechazar la hipótesis nula. Esto significa que no encontramos una diferencia significativa entre los ingresos promedios mensuales de los usuarios de NY-NJ y los de otras regiones. En otras palabras, los ingresos promedios mensuales de los usuarios de las tarifas en NY-NJ no son significativamente diferentes de los ingresos promedios mensuales de los usuarios de otras regiones.\n",
    "\n",
    "### Hipótesis Formuladas\n",
    "- **Hipótesis nula ( \\(H_0\\) )**: El ingreso promedio de los usuarios en el área de NY-NJ es igual al ingreso promedio de los usuarios de otras regiones.\n",
    "- **Hipótesis alternativa ( \\(H_1\\) )**: El ingreso promedio de los usuarios en el área de NY-NJ es diferente al ingreso promedio de los usuarios de otras regiones.\n",
    "\n",
    "Dado que no podemos rechazar la hipótesis nula, concluimos que no hay una diferencia significativa en los ingresos promedios entre las dos regiones comparadas."
   ]
  },
  {
   "cell_type": "markdown",
   "metadata": {},
   "source": [
    "## Conclusiones del proyecto <a id='final_conclusion'></a>"
   ]
  },
  {
   "cell_type": "markdown",
   "metadata": {},
   "source": [
    "### Resumen del Proyecto\n",
    "En este proyecto, analizamos y evaluamos diversos aspectos del uso de los servicios de telecomunicaciones por parte de los usuarios de diferentes planes tarifarios de la empresa megaline. Se utilizaron datos de seis tablas para llevar a cabo un análisis exhaustivo y llegar a conclusiones significativas sobre el comportamiento y los ingresos generados por los usuarios de los planes Surf y Ultimate.\n",
    "\n",
    "### Tablas Utilizadas\n",
    "1. **Usuarios (df_users)**: Información sobre los usuarios, incluyendo su ID, nombre, edad, ciudad, fecha de registro y plan de tarifas.\n",
    "2. **Llamadas (calls)**: Datos sobre las llamadas realizadas por los usuarios, incluyendo la duración de las llamadas y la fecha.\n",
    "3. **Mensajes (messages)**: Información sobre los mensajes enviados por los usuarios, incluyendo la fecha.\n",
    "4. **Internet (internet)**: Datos sobre el uso de internet por parte de los usuarios, incluyendo la cantidad de tráfico utilizado y la fecha.\n",
    "5. **Plan(planes)**: Datos sobre los planes surf y megaline\n",
    "6. **Ingresos Mensuales (total_used_per_user)**: Información consolidada sobre el uso de servicios y los ingresos mensuales generados por cada usuario.\n",
    "\n",
    "### Principales Análisis Realizados\n",
    "1. **Comparación de la Duración Promedio de Llamadas por Plan**:\n",
    "   - Se comparó la duración promedio de las llamadas realizadas por los usuarios de los planes \"Ultimate\" y \"Surf\" mediante un gráfico de barras.\n",
    "   - Conclusión: No se encontraron diferencias significativas en la duración promedio de las llamadas entre los dos planes.\n",
    "\n",
    "2. **Análisis del Número de Minutos Mensuales Utilizados**:\n",
    "   - Se visualizó la distribución del número de minutos de llamadas mensuales por plan mediante un histograma.\n",
    "   - Conclusión: La distribución de los minutos utilizados muestra que los usuarios de ambos planes tienen comportamientos de uso distintos.\n",
    "\n",
    "3. **Evaluación del Ingreso Promedio por Plan**:\n",
    "   - Se realizó una prueba t de dos muestras independientes para comparar los ingresos promedios mensuales generados por los usuarios de los planes \"Ultimate\" y \"Surf\".\n",
    "   - Conclusión: Se encontró una diferencia significativa entre los ingresos promedios de los dos planes, con los usuarios del plan \"Ultimate\" generando ingresos significativamente mayores.\n",
    "\n",
    "4. **Análisis Regional del Ingreso Promedio**:\n",
    "   - Se evaluó si el ingreso promedio de los usuarios en el área de Nueva York y Nueva Jersey (NY-NJ) es diferente al de los usuarios de otras regiones.\n",
    "   - Conclusión: No se encontró una diferencia significativa entre los ingresos promedios de los usuarios en NY-NJ y los de otras regiones.\n",
    "\n",
    "### Conclusiones Generales\n",
    "- **Diferencias en Ingresos por Plan**: Los usuarios del plan \"Surf\" generan ingresos significativamente mayores en comparación con los usuarios del plan \"Ultimate\". Esto puede deberse a diferencias en las tarifas, beneficios incluidos en cada plan, patrones de uso, o mayores usuarios en el plan \"Surf\" \n",
    "- **Impacto Regional Insignificante**: La ubicación geográfica de los usuarios, específicamente si están en el área de NY-NJ o en otras regiones, no parece tener un impacto significativo en los ingresos promedios generados por los usuarios. Esto indica que los planes tarifarios y los patrones de uso son consistentes en diferentes regiones.\n",
    "\n",
    "### Recomendaciones\n",
    "- **Revisión de Tarifas y Beneficios**: Considerar la revisión de las tarifas y beneficios incluidos en los planes para optimizar los ingresos y atraer a más usuarios a planes más rentables.\n",
    "\n",
    "\n",
    "\n",
    "\n",
    "\n",
    "\n",
    "\n",
    "\n"
   ]
  }
 ],
 "metadata": {
  "kernelspec": {
   "display_name": "Python 3",
   "language": "python",
   "name": "python3"
  },
  "language_info": {
   "codemirror_mode": {
    "name": "ipython",
    "version": 3
   },
   "file_extension": ".py",
   "mimetype": "text/x-python",
   "name": "python",
   "nbconvert_exporter": "python",
   "pygments_lexer": "ipython3",
   "version": "3.11.1"
  }
 },
 "nbformat": 4,
 "nbformat_minor": 2
}
